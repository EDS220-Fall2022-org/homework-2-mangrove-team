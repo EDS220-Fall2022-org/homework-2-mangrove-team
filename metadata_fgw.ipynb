{
 "cells": [
  {
   "cell_type": "markdown",
   "id": "1d62013d-8966-457f-b499-6e595ab65f8f",
   "metadata": {},
   "source": [
    "This notebook will be use to explore the metadata of the Fishing Global Watch of a Earth Engine Snippet (GFW/GFF/V1/fishing_hours)\n",
    "\n",
    "Metadata stands for data about data. In case of images, metadata means details about the image and its production. Some metadata is generated automatically by the capturing device. \n",
    "\n"
   ]
  },
  {
   "cell_type": "code",
   "execution_count": 1,
   "id": "8a123665-98a6-449b-8ca2-c46472aa3bd6",
   "metadata": {},
   "outputs": [],
   "source": [
    "# Import packages\n",
    "import ee\n",
    "import geemap\n",
    "import pandas as pd\n",
    "import matplotlib.pyplot as plt\n",
    "import numpy as np"
   ]
  },
  {
   "cell_type": "code",
   "execution_count": 3,
   "id": "d2dd1112-fb9b-4139-9af9-547187aed6a4",
   "metadata": {},
   "outputs": [
    {
     "data": {
      "text/html": [
       "<p>To authorize access needed by Earth Engine, open the following\n",
       "        URL in a web browser and follow the instructions:</p>\n",
       "        <p><a href=https://code.earthengine.google.com/client-auth?scopes=https%3A//www.googleapis.com/auth/earthengine%20https%3A//www.googleapis.com/auth/devstorage.full_control&request_id=vCTjIgkVn1SnooWS1O6I5v9W58gI6PuceUl3iEdE4eI&tc=o_JEE89DCPm9C104kCrvIqHXeQ3y9fXViJxfuUyKPBs&cc=7imvPgw_n-UV883Q6GdCTv4qeysVxuz1oZUip7amt54>https://code.earthengine.google.com/client-auth?scopes=https%3A//www.googleapis.com/auth/earthengine%20https%3A//www.googleapis.com/auth/devstorage.full_control&request_id=vCTjIgkVn1SnooWS1O6I5v9W58gI6PuceUl3iEdE4eI&tc=o_JEE89DCPm9C104kCrvIqHXeQ3y9fXViJxfuUyKPBs&cc=7imvPgw_n-UV883Q6GdCTv4qeysVxuz1oZUip7amt54</a></p>\n",
       "        <p>The authorization workflow will generate a code, which you should paste in the box below.</p>\n",
       "        "
      ],
      "text/plain": [
       "<IPython.core.display.HTML object>"
      ]
     },
     "metadata": {},
     "output_type": "display_data"
    },
    {
     "name": "stdin",
     "output_type": "stream",
     "text": [
      "Enter verification code:  4/1AfgeXvumorzLzTL6s37UhDKL9gLFtiatHrH6hKY2VtABkhQ0551O8w9FHzM\n"
     ]
    },
    {
     "name": "stdout",
     "output_type": "stream",
     "text": [
      "\n",
      "Successfully saved authorization token.\n"
     ]
    }
   ],
   "source": [
    "# Authenticate google earth engine\n",
    "ee.Authenticate()"
   ]
  },
  {
   "cell_type": "code",
   "execution_count": 4,
   "id": "d40c231b-86df-4c1d-b92f-0e204ca83a68",
   "metadata": {},
   "outputs": [],
   "source": [
    "# Initialize google earth engine \n",
    "ee.Initialize()"
   ]
  },
  {
   "cell_type": "code",
   "execution_count": 5,
   "id": "0adb4671-2d16-411b-9731-3710b6cd595d",
   "metadata": {},
   "outputs": [],
   "source": [
    "# read in the data on fishing hours from google earth engine\n",
    "dataset = ee.ImageCollection('GFW/GFF/V1/fishing_hours')\n",
    "# read in data on total vessel hours from google earth engine\n",
    "dataset2 = ee.ImageCollection('GFW/GFF/V1/vessel_hours')"
   ]
  },
  {
   "cell_type": "code",
   "execution_count": 6,
   "id": "fd2986c1-928e-4449-9568-5b2169c31172",
   "metadata": {},
   "outputs": [
    {
     "data": {
      "text/plain": [
       "<ee.imagecollection.ImageCollection at 0x7f005a56f850>"
      ]
     },
     "execution_count": 6,
     "metadata": {},
     "output_type": "execute_result"
    }
   ],
   "source": [
    "dataset"
   ]
  },
  {
   "cell_type": "code",
   "execution_count": 7,
   "id": "6b74e120-ab95-4826-a076-6c85dcf9f1a8",
   "metadata": {},
   "outputs": [
    {
     "data": {
      "text/plain": [
       "<ee.imagecollection.ImageCollection at 0x7f005a56fb50>"
      ]
     },
     "execution_count": 7,
     "metadata": {},
     "output_type": "execute_result"
    }
   ],
   "source": [
    "dataset2"
   ]
  },
  {
   "cell_type": "code",
   "execution_count": 8,
   "id": "b224bd16-ed40-4ba2-8dee-df02b0063057",
   "metadata": {},
   "outputs": [],
   "source": [
    "# Create a filter\n",
    "elnino_data = dataset.filter(ee.Filter.date('2015-01-01', '2016-01-01'))\n"
   ]
  },
  {
   "cell_type": "code",
   "execution_count": null,
   "id": "f9a9d6ae-084a-4565-af79-1d9d63453f9d",
   "metadata": {},
   "outputs": [],
   "source": []
  }
 ],
 "metadata": {
  "kernelspec": {
   "display_name": "Python 3 (ipykernel)",
   "language": "python",
   "name": "python3"
  },
  "language_info": {
   "codemirror_mode": {
    "name": "ipython",
    "version": 3
   },
   "file_extension": ".py",
   "mimetype": "text/x-python",
   "name": "python",
   "nbconvert_exporter": "python",
   "pygments_lexer": "ipython3",
   "version": "3.10.5"
  }
 },
 "nbformat": 4,
 "nbformat_minor": 5
}

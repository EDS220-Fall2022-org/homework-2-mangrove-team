{
 "cells": [
  {
   "cell_type": "markdown",
   "id": "1d62013d-8966-457f-b499-6e595ab65f8f",
   "metadata": {},
   "source": [
    "This notebook will be use to explore the metadata of the Fishing Global Watch of a Earth Engine Snippet (GFW/GFF/V1/fishing_hours)\n",
    "\n",
    "Metadata stands for data about data. In case of images, metadata means details about the image and its production. Some metadata is generated automatically by the capturing device. \n",
    "\n"
   ]
  },
  {
   "cell_type": "code",
   "execution_count": 4,
   "id": "8a123665-98a6-449b-8ca2-c46472aa3bd6",
   "metadata": {},
   "outputs": [],
   "source": [
    "# Import packages\n",
    "import ee\n",
    "import geemap\n",
    "import pandas as pd\n",
    "import matplotlib.pyplot as plt\n",
    "import numpy as np"
   ]
  },
  {
   "cell_type": "code",
   "execution_count": null,
   "id": "d2dd1112-fb9b-4139-9af9-547187aed6a4",
   "metadata": {},
   "outputs": [],
   "source": [
    "# Authenticate google earth engine\n",
    "#ee.Authenticate()"
   ]
  },
  {
   "cell_type": "code",
   "execution_count": 5,
   "id": "d40c231b-86df-4c1d-b92f-0e204ca83a68",
   "metadata": {},
   "outputs": [],
   "source": [
    "# Initialize google earth engine \n",
    "ee.Initialize()"
   ]
  },
  {
   "cell_type": "code",
   "execution_count": 6,
   "id": "0adb4671-2d16-411b-9731-3710b6cd595d",
   "metadata": {},
   "outputs": [],
   "source": [
    "# read in the data on fishing hours from google earth engine\n",
    "dataset = ee.ImageCollection('GFW/GFF/V1/fishing_hours')\n",
    "# read in data on total vessel hours from google earth engine\n",
    "dataset2 = ee.ImageCollection('GFW/GFF/V1/vessel_hours')"
   ]
  },
  {
   "cell_type": "code",
   "execution_count": 7,
   "id": "fd2986c1-928e-4449-9568-5b2169c31172",
   "metadata": {},
   "outputs": [
    {
     "data": {
      "text/plain": [
       "<ee.imagecollection.ImageCollection at 0x7f9be015ded0>"
      ]
     },
     "execution_count": 7,
     "metadata": {},
     "output_type": "execute_result"
    }
   ],
   "source": [
    "dataset"
   ]
  },
  {
   "cell_type": "code",
   "execution_count": 8,
   "id": "6b74e120-ab95-4826-a076-6c85dcf9f1a8",
   "metadata": {},
   "outputs": [
    {
     "data": {
      "text/plain": [
       "<ee.imagecollection.ImageCollection at 0x7f9be015e1d0>"
      ]
     },
     "execution_count": 8,
     "metadata": {},
     "output_type": "execute_result"
    }
   ],
   "source": [
    "dataset2"
   ]
  },
  {
   "cell_type": "code",
   "execution_count": 9,
   "id": "b224bd16-ed40-4ba2-8dee-df02b0063057",
   "metadata": {},
   "outputs": [
    {
     "data": {
      "text/plain": [
       "<ee.imagecollection.ImageCollection at 0x7f9be015dfc0>"
      ]
     },
     "execution_count": 9,
     "metadata": {},
     "output_type": "execute_result"
    }
   ],
   "source": [
    "# Create a filter for the dates\n",
    "elnino_data = dataset.filter(ee.Filter.date('2015-01-01', '2016-01-01'))\n",
    "elnino_data"
   ]
  },
  {
   "cell_type": "code",
   "execution_count": 10,
   "id": "d801241e-a2c8-43d2-be08-7171dce6df36",
   "metadata": {},
   "outputs": [],
   "source": [
    "u_lon = -80\n",
    "u_lat = -10\n",
    "x = ee.Geometry.Point([u_lon, u_lat])"
   ]
  },
  {
   "cell_type": "code",
   "execution_count": 11,
   "id": "f9a9d6ae-084a-4565-af79-1d9d63453f9d",
   "metadata": {},
   "outputs": [],
   "source": [
    "# See image properties with their names and values\n",
    "\n",
    "fishing_image = ee.ImageCollection('GFW/GFF/V1/fishing_hours') \\\n",
    "    .filterBounds(x) \\\n",
    "    .filter(ee.Filter.date('2015-01-01', '2015-01-10')) \\\n",
    "    .first()"
   ]
  },
  {
   "cell_type": "code",
   "execution_count": 12,
   "id": "d915d5cd-c47c-4414-ba7d-0b1d4c5e8718",
   "metadata": {},
   "outputs": [
    {
     "data": {
      "text/plain": [
       "{'IMAGE_DATE': '2015-01-01',\n",
       " 'NOMINAL_SCALE': 1113.1949079327358,\n",
       " 'country': 'ARG',\n",
       " 'system:asset_size': '0.015705 MB',\n",
       " 'system:band_names': ['drifting_longlines',\n",
       "  'fixed_gear',\n",
       "  'other_fishing',\n",
       "  'purse_seines',\n",
       "  'squid_jigger',\n",
       "  'trawlers'],\n",
       " 'system:id': 'GFW/GFF/V1/fishing_hours/ARG-20150101',\n",
       " 'system:index': 'ARG-20150101',\n",
       " 'system:time_end': '2015-01-02 00:00:00',\n",
       " 'system:time_start': '2015-01-01 00:00:00',\n",
       " 'system:version': 1518618589881092}"
      ]
     },
     "execution_count": 12,
     "metadata": {},
     "output_type": "execute_result"
    }
   ],
   "source": [
    "fishing_props = geemap.image_props(fishing_image)\n",
    "fishing_props.getInfo()\n"
   ]
  },
  {
   "cell_type": "code",
   "execution_count": 39,
   "id": "0b7033f3-4276-403e-ae9b-60127f250fa6",
   "metadata": {},
   "outputs": [
    {
     "name": "stdout",
     "output_type": "stream",
     "text": [
      "Country: ARG\n"
     ]
    }
   ],
   "source": [
    "country = fishing_props.get('country')\n",
    "print('Country:', country.getInfo())"
   ]
  },
  {
   "cell_type": "code",
   "execution_count": 14,
   "id": "bf7e9eef-a902-4411-b02c-2bbb73659f25",
   "metadata": {},
   "outputs": [
    {
     "name": "stdout",
     "output_type": "stream",
     "text": [
      "Metadata properties:  ['system:time_start', 'country', 'system:footprint', 'system:time_end', 'system:version', 'system:id', 'system:asset_size', 'system:index', 'system:bands', 'system:band_names']\n"
     ]
    }
   ],
   "source": [
    "properties = fishing_image.propertyNames()\n",
    "print('Metadata properties: ', properties.getInfo())"
   ]
  },
  {
   "cell_type": "code",
   "execution_count": 15,
   "id": "8c22e2ad-cf71-4bd1-b2cf-2e37cb017a60",
   "metadata": {},
   "outputs": [
    {
     "data": {
      "text/plain": [
       "<ee.image.Image at 0x7f9be0203c10>"
      ]
     },
     "execution_count": 15,
     "metadata": {},
     "output_type": "execute_result"
    }
   ],
   "source": [
    "def flag_totals(gee_snipet, lon, lat, flag, start_date, end_date):\n",
    "    dataset_name = ee.ImageCollection(gee_snipet)\n",
    "    area = ee.Geometry.Point([lon, lat])\n",
    "    collection = (dataset_name\n",
    "                  .filterMetadata('country', 'equals', flag)\n",
    "                  .filterDate(start_date, end_date)\n",
    "                  .filter(ee.Filter.bounds(area))\n",
    "                  .sum())\n",
    "    return ee.Image(collection)\n",
    "\n",
    "flag_totals('GFW/GFF/V1/fishing_hours',-80.5,-10.5, \"ARG\",'2016-01-01','2017-01-01')"
   ]
  },
  {
   "cell_type": "code",
   "execution_count": 38,
   "id": "a1a0d40b-8bbb-40e0-b106-7572d20a5005",
   "metadata": {},
   "outputs": [
    {
     "name": "stdout",
     "output_type": "stream",
     "text": [
      "<class 'ee.image.Image'>\n",
      "<class 'ee.image.Image'>\n"
     ]
    }
   ],
   "source": [
    "arg = flag_totals('GFW/GFF/V1/fishing_hours',-80.5,-10.5, \"ARG\",'2016-01-01','2017-01-01')\n",
    "print(type(arg))\n",
    "arg_all = arg.reduce(ee.Reducer.sum())\n",
    "print(type(arg_all))\n",
    "#print(arg_all)"
   ]
  },
  {
   "cell_type": "code",
   "execution_count": 35,
   "id": "b82c26bc-811a-4246-ba62-1314931e19e8",
   "metadata": {},
   "outputs": [
    {
     "data": {
      "text/plain": [
       "ee.image.Image"
      ]
     },
     "execution_count": 35,
     "metadata": {},
     "output_type": "execute_result"
    }
   ],
   "source": [
    "arg_drift_lines = arg.select('drifting_longlines')\n",
    "type(arg_drift_lines)\n",
    "\n",
    "#print(arg_drift_lines)"
   ]
  },
  {
   "cell_type": "code",
   "execution_count": 31,
   "id": "756f1982-37b3-4a22-8523-8e07226a41a8",
   "metadata": {},
   "outputs": [
    {
     "data": {
      "text/html": [
       "<div>\n",
       "<style scoped>\n",
       "    .dataframe tbody tr th:only-of-type {\n",
       "        vertical-align: middle;\n",
       "    }\n",
       "\n",
       "    .dataframe tbody tr th {\n",
       "        vertical-align: top;\n",
       "    }\n",
       "\n",
       "    .dataframe thead th {\n",
       "        text-align: right;\n",
       "    }\n",
       "</style>\n",
       "<table border=\"1\" class=\"dataframe\">\n",
       "  <thead>\n",
       "    <tr style=\"text-align: right;\">\n",
       "      <th></th>\n",
       "      <th>mmsi</th>\n",
       "      <th>flag</th>\n",
       "      <th>geartype</th>\n",
       "      <th>length</th>\n",
       "      <th>tonnage</th>\n",
       "      <th>engine_power</th>\n",
       "      <th>active_2012</th>\n",
       "      <th>active_2013</th>\n",
       "      <th>active_2014</th>\n",
       "      <th>active_2015</th>\n",
       "      <th>active_2016</th>\n",
       "    </tr>\n",
       "  </thead>\n",
       "  <tbody>\n",
       "    <tr>\n",
       "      <th>0</th>\n",
       "      <td>603100157</td>\n",
       "      <td>AGO</td>\n",
       "      <td>trawlers</td>\n",
       "      <td>32.808468</td>\n",
       "      <td>299.003814</td>\n",
       "      <td>733.826977</td>\n",
       "      <td>False</td>\n",
       "      <td>False</td>\n",
       "      <td>False</td>\n",
       "      <td>True</td>\n",
       "      <td>True</td>\n",
       "    </tr>\n",
       "    <tr>\n",
       "      <th>1</th>\n",
       "      <td>603100137</td>\n",
       "      <td>AGO</td>\n",
       "      <td>trawlers</td>\n",
       "      <td>34.568782</td>\n",
       "      <td>395.683171</td>\n",
       "      <td>864.960188</td>\n",
       "      <td>False</td>\n",
       "      <td>False</td>\n",
       "      <td>False</td>\n",
       "      <td>True</td>\n",
       "      <td>True</td>\n",
       "    </tr>\n",
       "    <tr>\n",
       "      <th>2</th>\n",
       "      <td>603100161</td>\n",
       "      <td>AGO</td>\n",
       "      <td>trawlers</td>\n",
       "      <td>28.822140</td>\n",
       "      <td>263.849149</td>\n",
       "      <td>651.809642</td>\n",
       "      <td>False</td>\n",
       "      <td>False</td>\n",
       "      <td>False</td>\n",
       "      <td>True</td>\n",
       "      <td>True</td>\n",
       "    </tr>\n",
       "    <tr>\n",
       "      <th>3</th>\n",
       "      <td>603100174</td>\n",
       "      <td>AGO</td>\n",
       "      <td>trawlers</td>\n",
       "      <td>30.721429</td>\n",
       "      <td>299.700916</td>\n",
       "      <td>703.796086</td>\n",
       "      <td>False</td>\n",
       "      <td>False</td>\n",
       "      <td>False</td>\n",
       "      <td>True</td>\n",
       "      <td>True</td>\n",
       "    </tr>\n",
       "    <tr>\n",
       "      <th>4</th>\n",
       "      <td>603100164</td>\n",
       "      <td>AGO</td>\n",
       "      <td>trawlers</td>\n",
       "      <td>37.479248</td>\n",
       "      <td>405.967747</td>\n",
       "      <td>850.976640</td>\n",
       "      <td>False</td>\n",
       "      <td>False</td>\n",
       "      <td>False</td>\n",
       "      <td>True</td>\n",
       "      <td>True</td>\n",
       "    </tr>\n",
       "    <tr>\n",
       "      <th>...</th>\n",
       "      <td>...</td>\n",
       "      <td>...</td>\n",
       "      <td>...</td>\n",
       "      <td>...</td>\n",
       "      <td>...</td>\n",
       "      <td>...</td>\n",
       "      <td>...</td>\n",
       "      <td>...</td>\n",
       "      <td>...</td>\n",
       "      <td>...</td>\n",
       "      <td>...</td>\n",
       "    </tr>\n",
       "    <tr>\n",
       "      <th>73004</th>\n",
       "      <td>601764000</td>\n",
       "      <td>ZAF</td>\n",
       "      <td>drifting_longlines</td>\n",
       "      <td>17.032258</td>\n",
       "      <td>52.550920</td>\n",
       "      <td>207.818629</td>\n",
       "      <td>False</td>\n",
       "      <td>True</td>\n",
       "      <td>True</td>\n",
       "      <td>True</td>\n",
       "      <td>True</td>\n",
       "    </tr>\n",
       "    <tr>\n",
       "      <th>73005</th>\n",
       "      <td>601089100</td>\n",
       "      <td>ZAF</td>\n",
       "      <td>drifting_longlines</td>\n",
       "      <td>22.915622</td>\n",
       "      <td>180.506028</td>\n",
       "      <td>527.507463</td>\n",
       "      <td>False</td>\n",
       "      <td>False</td>\n",
       "      <td>False</td>\n",
       "      <td>True</td>\n",
       "      <td>True</td>\n",
       "    </tr>\n",
       "    <tr>\n",
       "      <th>73006</th>\n",
       "      <td>601849000</td>\n",
       "      <td>ZAF</td>\n",
       "      <td>drifting_longlines</td>\n",
       "      <td>19.692080</td>\n",
       "      <td>86.485661</td>\n",
       "      <td>362.553279</td>\n",
       "      <td>False</td>\n",
       "      <td>False</td>\n",
       "      <td>True</td>\n",
       "      <td>True</td>\n",
       "      <td>True</td>\n",
       "    </tr>\n",
       "    <tr>\n",
       "      <th>73007</th>\n",
       "      <td>601183700</td>\n",
       "      <td>ZAF</td>\n",
       "      <td>drifting_longlines</td>\n",
       "      <td>31.872860</td>\n",
       "      <td>307.446773</td>\n",
       "      <td>977.330342</td>\n",
       "      <td>False</td>\n",
       "      <td>False</td>\n",
       "      <td>True</td>\n",
       "      <td>True</td>\n",
       "      <td>True</td>\n",
       "    </tr>\n",
       "    <tr>\n",
       "      <th>73008</th>\n",
       "      <td>601826000</td>\n",
       "      <td>ZAF</td>\n",
       "      <td>drifting_longlines</td>\n",
       "      <td>25.401070</td>\n",
       "      <td>160.784917</td>\n",
       "      <td>365.421212</td>\n",
       "      <td>False</td>\n",
       "      <td>False</td>\n",
       "      <td>False</td>\n",
       "      <td>False</td>\n",
       "      <td>True</td>\n",
       "    </tr>\n",
       "  </tbody>\n",
       "</table>\n",
       "<p>73009 rows × 11 columns</p>\n",
       "</div>"
      ],
      "text/plain": [
       "            mmsi flag            geartype     length     tonnage  \\\n",
       "0      603100157  AGO            trawlers  32.808468  299.003814   \n",
       "1      603100137  AGO            trawlers  34.568782  395.683171   \n",
       "2      603100161  AGO            trawlers  28.822140  263.849149   \n",
       "3      603100174  AGO            trawlers  30.721429  299.700916   \n",
       "4      603100164  AGO            trawlers  37.479248  405.967747   \n",
       "...          ...  ...                 ...        ...         ...   \n",
       "73004  601764000  ZAF  drifting_longlines  17.032258   52.550920   \n",
       "73005  601089100  ZAF  drifting_longlines  22.915622  180.506028   \n",
       "73006  601849000  ZAF  drifting_longlines  19.692080   86.485661   \n",
       "73007  601183700  ZAF  drifting_longlines  31.872860  307.446773   \n",
       "73008  601826000  ZAF  drifting_longlines  25.401070  160.784917   \n",
       "\n",
       "       engine_power  active_2012  active_2013  active_2014  active_2015  \\\n",
       "0        733.826977        False        False        False         True   \n",
       "1        864.960188        False        False        False         True   \n",
       "2        651.809642        False        False        False         True   \n",
       "3        703.796086        False        False        False         True   \n",
       "4        850.976640        False        False        False         True   \n",
       "...             ...          ...          ...          ...          ...   \n",
       "73004    207.818629        False         True         True         True   \n",
       "73005    527.507463        False        False        False         True   \n",
       "73006    362.553279        False        False         True         True   \n",
       "73007    977.330342        False        False         True         True   \n",
       "73008    365.421212        False        False        False        False   \n",
       "\n",
       "       active_2016  \n",
       "0             True  \n",
       "1             True  \n",
       "2             True  \n",
       "3             True  \n",
       "4             True  \n",
       "...            ...  \n",
       "73004         True  \n",
       "73005         True  \n",
       "73006         True  \n",
       "73007         True  \n",
       "73008         True  \n",
       "\n",
       "[73009 rows x 11 columns]"
      ]
     },
     "execution_count": 31,
     "metadata": {},
     "output_type": "execute_result"
    }
   ],
   "source": [
    "raw = pd.read_csv('fishing-vessels-v1.csv')\n",
    "raw.shape\n",
    "\n",
    "raw"
   ]
  },
  {
   "cell_type": "code",
   "execution_count": 20,
   "id": "f5ebf129-18e0-4d2a-987f-9232aa4c1e69",
   "metadata": {},
   "outputs": [
    {
     "data": {
      "text/html": [
       "<div>\n",
       "<style scoped>\n",
       "    .dataframe tbody tr th:only-of-type {\n",
       "        vertical-align: middle;\n",
       "    }\n",
       "\n",
       "    .dataframe tbody tr th {\n",
       "        vertical-align: top;\n",
       "    }\n",
       "\n",
       "    .dataframe thead th {\n",
       "        text-align: right;\n",
       "    }\n",
       "</style>\n",
       "<table border=\"1\" class=\"dataframe\">\n",
       "  <thead>\n",
       "    <tr style=\"text-align: right;\">\n",
       "      <th></th>\n",
       "      <th>mmsi</th>\n",
       "      <th>flag</th>\n",
       "      <th>geartype</th>\n",
       "      <th>length</th>\n",
       "      <th>tonnage</th>\n",
       "      <th>engine_power</th>\n",
       "      <th>active_2012</th>\n",
       "      <th>active_2013</th>\n",
       "      <th>active_2014</th>\n",
       "      <th>active_2015</th>\n",
       "      <th>active_2016</th>\n",
       "    </tr>\n",
       "  </thead>\n",
       "  <tbody>\n",
       "    <tr>\n",
       "      <th>62254</th>\n",
       "      <td>440306340</td>\n",
       "      <td>KOR</td>\n",
       "      <td>drifting_longlines</td>\n",
       "      <td>21.182532</td>\n",
       "      <td>65.050847</td>\n",
       "      <td>327.646697</td>\n",
       "      <td>False</td>\n",
       "      <td>True</td>\n",
       "      <td>True</td>\n",
       "      <td>True</td>\n",
       "      <td>True</td>\n",
       "    </tr>\n",
       "    <tr>\n",
       "      <th>24333</th>\n",
       "      <td>800037033</td>\n",
       "      <td>CHN</td>\n",
       "      <td>trawlers</td>\n",
       "      <td>18.682916</td>\n",
       "      <td>61.637528</td>\n",
       "      <td>288.314884</td>\n",
       "      <td>False</td>\n",
       "      <td>False</td>\n",
       "      <td>True</td>\n",
       "      <td>True</td>\n",
       "      <td>True</td>\n",
       "    </tr>\n",
       "    <tr>\n",
       "      <th>1230</th>\n",
       "      <td>316007519</td>\n",
       "      <td>CAN</td>\n",
       "      <td>purse_seines</td>\n",
       "      <td>21.687323</td>\n",
       "      <td>43.000000</td>\n",
       "      <td>250.203429</td>\n",
       "      <td>True</td>\n",
       "      <td>True</td>\n",
       "      <td>True</td>\n",
       "      <td>True</td>\n",
       "      <td>True</td>\n",
       "    </tr>\n",
       "    <tr>\n",
       "      <th>18576</th>\n",
       "      <td>965000123</td>\n",
       "      <td>CHN</td>\n",
       "      <td>trawlers</td>\n",
       "      <td>24.244807</td>\n",
       "      <td>97.601110</td>\n",
       "      <td>312.918558</td>\n",
       "      <td>False</td>\n",
       "      <td>False</td>\n",
       "      <td>False</td>\n",
       "      <td>False</td>\n",
       "      <td>True</td>\n",
       "    </tr>\n",
       "    <tr>\n",
       "      <th>31642</th>\n",
       "      <td>412414087</td>\n",
       "      <td>CHN</td>\n",
       "      <td>fixed_gear</td>\n",
       "      <td>22.012319</td>\n",
       "      <td>53.212939</td>\n",
       "      <td>211.590235</td>\n",
       "      <td>False</td>\n",
       "      <td>False</td>\n",
       "      <td>False</td>\n",
       "      <td>True</td>\n",
       "      <td>True</td>\n",
       "    </tr>\n",
       "    <tr>\n",
       "      <th>...</th>\n",
       "      <td>...</td>\n",
       "      <td>...</td>\n",
       "      <td>...</td>\n",
       "      <td>...</td>\n",
       "      <td>...</td>\n",
       "      <td>...</td>\n",
       "      <td>...</td>\n",
       "      <td>...</td>\n",
       "      <td>...</td>\n",
       "      <td>...</td>\n",
       "      <td>...</td>\n",
       "    </tr>\n",
       "    <tr>\n",
       "      <th>7659</th>\n",
       "      <td>872415232</td>\n",
       "      <td>CHN</td>\n",
       "      <td>trawlers</td>\n",
       "      <td>26.534121</td>\n",
       "      <td>118.072952</td>\n",
       "      <td>238.748890</td>\n",
       "      <td>True</td>\n",
       "      <td>True</td>\n",
       "      <td>True</td>\n",
       "      <td>True</td>\n",
       "      <td>True</td>\n",
       "    </tr>\n",
       "    <tr>\n",
       "      <th>46169</th>\n",
       "      <td>414156183</td>\n",
       "      <td>CHN</td>\n",
       "      <td>purse_seines</td>\n",
       "      <td>19.188585</td>\n",
       "      <td>54.696560</td>\n",
       "      <td>246.444619</td>\n",
       "      <td>False</td>\n",
       "      <td>False</td>\n",
       "      <td>False</td>\n",
       "      <td>False</td>\n",
       "      <td>True</td>\n",
       "    </tr>\n",
       "    <tr>\n",
       "      <th>38458</th>\n",
       "      <td>1537</td>\n",
       "      <td>CHN</td>\n",
       "      <td>fixed_gear</td>\n",
       "      <td>9.699666</td>\n",
       "      <td>10.147057</td>\n",
       "      <td>117.551010</td>\n",
       "      <td>False</td>\n",
       "      <td>True</td>\n",
       "      <td>False</td>\n",
       "      <td>True</td>\n",
       "      <td>True</td>\n",
       "    </tr>\n",
       "    <tr>\n",
       "      <th>49429</th>\n",
       "      <td>412699450</td>\n",
       "      <td>CHN</td>\n",
       "      <td>drifting_longlines</td>\n",
       "      <td>29.100000</td>\n",
       "      <td>134.345449</td>\n",
       "      <td>339.000000</td>\n",
       "      <td>False</td>\n",
       "      <td>False</td>\n",
       "      <td>False</td>\n",
       "      <td>True</td>\n",
       "      <td>True</td>\n",
       "    </tr>\n",
       "    <tr>\n",
       "      <th>55835</th>\n",
       "      <td>235035024</td>\n",
       "      <td>GBR</td>\n",
       "      <td>fixed_gear</td>\n",
       "      <td>12.487474</td>\n",
       "      <td>5.300000</td>\n",
       "      <td>278.228256</td>\n",
       "      <td>False</td>\n",
       "      <td>False</td>\n",
       "      <td>False</td>\n",
       "      <td>True</td>\n",
       "      <td>True</td>\n",
       "    </tr>\n",
       "  </tbody>\n",
       "</table>\n",
       "<p>70000 rows × 11 columns</p>\n",
       "</div>"
      ],
      "text/plain": [
       "            mmsi flag            geartype     length     tonnage  \\\n",
       "62254  440306340  KOR  drifting_longlines  21.182532   65.050847   \n",
       "24333  800037033  CHN            trawlers  18.682916   61.637528   \n",
       "1230   316007519  CAN        purse_seines  21.687323   43.000000   \n",
       "18576  965000123  CHN            trawlers  24.244807   97.601110   \n",
       "31642  412414087  CHN          fixed_gear  22.012319   53.212939   \n",
       "...          ...  ...                 ...        ...         ...   \n",
       "7659   872415232  CHN            trawlers  26.534121  118.072952   \n",
       "46169  414156183  CHN        purse_seines  19.188585   54.696560   \n",
       "38458       1537  CHN          fixed_gear   9.699666   10.147057   \n",
       "49429  412699450  CHN  drifting_longlines  29.100000  134.345449   \n",
       "55835  235035024  GBR          fixed_gear  12.487474    5.300000   \n",
       "\n",
       "       engine_power  active_2012  active_2013  active_2014  active_2015  \\\n",
       "62254    327.646697        False         True         True         True   \n",
       "24333    288.314884        False        False         True         True   \n",
       "1230     250.203429         True         True         True         True   \n",
       "18576    312.918558        False        False        False        False   \n",
       "31642    211.590235        False        False        False         True   \n",
       "...             ...          ...          ...          ...          ...   \n",
       "7659     238.748890         True         True         True         True   \n",
       "46169    246.444619        False        False        False        False   \n",
       "38458    117.551010        False         True        False         True   \n",
       "49429    339.000000        False        False        False         True   \n",
       "55835    278.228256        False        False        False         True   \n",
       "\n",
       "       active_2016  \n",
       "62254         True  \n",
       "24333         True  \n",
       "1230          True  \n",
       "18576         True  \n",
       "31642         True  \n",
       "...            ...  \n",
       "7659          True  \n",
       "46169         True  \n",
       "38458         True  \n",
       "49429         True  \n",
       "55835         True  \n",
       "\n",
       "[70000 rows x 11 columns]"
      ]
     },
     "execution_count": 20,
     "metadata": {},
     "output_type": "execute_result"
    }
   ],
   "source": [
    "# Create dataframe of 70,000 rows\n",
    "# The MMSI number (Maritime Mobile Service Identity) is a nine-digit number for vessel identification. \n",
    "raw_sample = raw.sample(n=70000, replace=False, random_state=42)\n",
    "raw_sample\n",
    "\n",
    "\n",
    "# Description: \n",
    "#This table includes all mmsi that are included in the fishing effort data. There is only one row for each mmsi.\n",
    "#Includes all vessels that were identified as fishing vessels by the neural network and which were not identified as non-fishing vessels by registries and manual review. \n",
    "#If an mmsi was matched to a fishing vessel on a registry, but the neural net did not classify it as a fishing vessel, it is not included on this list."
   ]
  },
  {
   "cell_type": "code",
   "execution_count": 21,
   "id": "178fe69d-3fcd-49b3-9de6-512d9e33d986",
   "metadata": {},
   "outputs": [
    {
     "data": {
      "text/plain": [
       "mmsi              int64\n",
       "flag             object\n",
       "geartype         object\n",
       "length          float64\n",
       "tonnage         float64\n",
       "engine_power    float64\n",
       "active_2012        bool\n",
       "active_2013        bool\n",
       "active_2014        bool\n",
       "active_2015        bool\n",
       "active_2016        bool\n",
       "dtype: object"
      ]
     },
     "execution_count": 21,
     "metadata": {},
     "output_type": "execute_result"
    }
   ],
   "source": [
    "# Check data types\n",
    "raw_sample.dtypes"
   ]
  },
  {
   "cell_type": "code",
   "execution_count": 22,
   "id": "89bb2675-0fff-4fa2-95d6-27f58d25548e",
   "metadata": {},
   "outputs": [
    {
     "data": {
      "text/plain": [
       "mmsi            0\n",
       "flag            0\n",
       "geartype        2\n",
       "length          1\n",
       "tonnage         1\n",
       "engine_power    9\n",
       "active_2012     0\n",
       "active_2013     0\n",
       "active_2014     0\n",
       "active_2015     0\n",
       "active_2016     0\n",
       "dtype: int64"
      ]
     },
     "execution_count": 22,
     "metadata": {},
     "output_type": "execute_result"
    }
   ],
   "source": [
    "# Check for null values\n",
    "raw_sample.isnull().sum()"
   ]
  },
  {
   "cell_type": "code",
   "execution_count": 23,
   "id": "7aaf7014-9ac0-420b-ada4-2de90c91d302",
   "metadata": {},
   "outputs": [],
   "source": [
    "roi = ee.Geometry.Polygon([[-84.997101, -12.93982],\n",
    "      [-84.997101, -3.79797],\n",
    "      [-76.295929, -3.79797],\n",
    "      [-76.295929, -12.93982],\n",
    "      [-84.997101, -12.93982]])"
   ]
  },
  {
   "cell_type": "code",
   "execution_count": 33,
   "id": "38beeb5b-b6fb-42ea-87b0-be1eac9beec0",
   "metadata": {},
   "outputs": [
    {
     "data": {
      "text/plain": [
       "CHN    49039\n",
       "NOR     2229\n",
       "USA     2180\n",
       "ESP     1953\n",
       "ITA     1588\n",
       "       ...  \n",
       "TCD        1\n",
       "CUB        1\n",
       "GLP        1\n",
       "TON        1\n",
       "STP        1\n",
       "Name: flag, Length: 128, dtype: int64"
      ]
     },
     "execution_count": 33,
     "metadata": {},
     "output_type": "execute_result"
    }
   ],
   "source": [
    "# Check for even representation of vessels\n",
    "raw['flag'].value_counts().sort_values(ascending=False)"
   ]
  },
  {
   "cell_type": "code",
   "execution_count": null,
   "id": "1846d193-33aa-4033-8986-2ec63759399c",
   "metadata": {},
   "outputs": [],
   "source": []
  }
 ],
 "metadata": {
  "kernelspec": {
   "display_name": "Python 3 (ipykernel)",
   "language": "python",
   "name": "python3"
  },
  "language_info": {
   "codemirror_mode": {
    "name": "ipython",
    "version": 3
   },
   "file_extension": ".py",
   "mimetype": "text/x-python",
   "name": "python",
   "nbconvert_exporter": "python",
   "pygments_lexer": "ipython3",
   "version": "3.10.5"
  }
 },
 "nbformat": 4,
 "nbformat_minor": 5
}

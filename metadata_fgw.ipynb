{
 "cells": [
  {
   "cell_type": "markdown",
   "id": "1d62013d-8966-457f-b499-6e595ab65f8f",
   "metadata": {},
   "source": [
    "This notebook will be use to explore the metadata of the Fishing Global Watch of a Earth Engine Snippet (GFW/GFF/V1/fishing_hours)\n",
    "\n",
    "Metadata stands for data about data. In case of images, metadata means details about the image and its production. Some metadata is generated automatically by the capturing device. \n",
    "\n"
   ]
  },
  {
   "cell_type": "code",
   "execution_count": 3,
   "id": "8a123665-98a6-449b-8ca2-c46472aa3bd6",
   "metadata": {},
   "outputs": [],
   "source": [
    "# Import packages\n",
    "import ee\n",
    "import geemap\n",
    "import pandas as pd\n",
    "import matplotlib.pyplot as plt\n",
    "import numpy as np"
   ]
  },
  {
   "cell_type": "code",
   "execution_count": 3,
   "id": "d2dd1112-fb9b-4139-9af9-547187aed6a4",
   "metadata": {},
   "outputs": [
    {
     "data": {
      "text/html": [
       "<p>To authorize access needed by Earth Engine, open the following\n",
       "        URL in a web browser and follow the instructions:</p>\n",
       "        <p><a href=https://code.earthengine.google.com/client-auth?scopes=https%3A//www.googleapis.com/auth/earthengine%20https%3A//www.googleapis.com/auth/devstorage.full_control&request_id=vCTjIgkVn1SnooWS1O6I5v9W58gI6PuceUl3iEdE4eI&tc=o_JEE89DCPm9C104kCrvIqHXeQ3y9fXViJxfuUyKPBs&cc=7imvPgw_n-UV883Q6GdCTv4qeysVxuz1oZUip7amt54>https://code.earthengine.google.com/client-auth?scopes=https%3A//www.googleapis.com/auth/earthengine%20https%3A//www.googleapis.com/auth/devstorage.full_control&request_id=vCTjIgkVn1SnooWS1O6I5v9W58gI6PuceUl3iEdE4eI&tc=o_JEE89DCPm9C104kCrvIqHXeQ3y9fXViJxfuUyKPBs&cc=7imvPgw_n-UV883Q6GdCTv4qeysVxuz1oZUip7amt54</a></p>\n",
       "        <p>The authorization workflow will generate a code, which you should paste in the box below.</p>\n",
       "        "
      ],
      "text/plain": [
       "<IPython.core.display.HTML object>"
      ]
     },
     "metadata": {},
     "output_type": "display_data"
    },
    {
     "name": "stdin",
     "output_type": "stream",
     "text": [
      "Enter verification code:  4/1AfgeXvumorzLzTL6s37UhDKL9gLFtiatHrH6hKY2VtABkhQ0551O8w9FHzM\n"
     ]
    },
    {
     "name": "stdout",
     "output_type": "stream",
     "text": [
      "\n",
      "Successfully saved authorization token.\n"
     ]
    }
   ],
   "source": [
    "# Authenticate google earth engine\n",
    "ee.Authenticate()"
   ]
  },
  {
   "cell_type": "code",
   "execution_count": 4,
   "id": "d40c231b-86df-4c1d-b92f-0e204ca83a68",
   "metadata": {},
   "outputs": [],
   "source": [
    "# Initialize google earth engine \n",
    "ee.Initialize()"
   ]
  },
  {
   "cell_type": "code",
   "execution_count": 5,
   "id": "0adb4671-2d16-411b-9731-3710b6cd595d",
   "metadata": {},
   "outputs": [],
   "source": [
    "# read in the data on fishing hours from google earth engine\n",
    "dataset = ee.ImageCollection('GFW/GFF/V1/fishing_hours')\n",
    "# read in data on total vessel hours from google earth engine\n",
    "dataset2 = ee.ImageCollection('GFW/GFF/V1/vessel_hours')"
   ]
  },
  {
   "cell_type": "code",
   "execution_count": 6,
   "id": "fd2986c1-928e-4449-9568-5b2169c31172",
   "metadata": {},
   "outputs": [
    {
     "data": {
      "text/plain": [
       "<ee.imagecollection.ImageCollection at 0x7f71bec796c0>"
      ]
     },
     "execution_count": 6,
     "metadata": {},
     "output_type": "execute_result"
    }
   ],
   "source": [
    "dataset"
   ]
  },
  {
   "cell_type": "code",
   "execution_count": 7,
   "id": "6b74e120-ab95-4826-a076-6c85dcf9f1a8",
   "metadata": {},
   "outputs": [
    {
     "data": {
      "text/plain": [
       "<ee.imagecollection.ImageCollection at 0x7f71bec799c0>"
      ]
     },
     "execution_count": 7,
     "metadata": {},
     "output_type": "execute_result"
    }
   ],
   "source": [
    "dataset2"
   ]
  },
  {
   "cell_type": "code",
   "execution_count": 8,
   "id": "b224bd16-ed40-4ba2-8dee-df02b0063057",
   "metadata": {},
   "outputs": [
    {
     "data": {
      "text/plain": [
       "<ee.imagecollection.ImageCollection at 0x7f71bec79720>"
      ]
     },
     "execution_count": 8,
     "metadata": {},
     "output_type": "execute_result"
    }
   ],
   "source": [
    "# Create a filter for the dates\n",
    "elnino_data = dataset.filter(ee.Filter.date('2015-01-01', '2016-01-01'))\n",
    "elnino_data"
   ]
  },
  {
   "cell_type": "code",
   "execution_count": 9,
   "id": "d801241e-a2c8-43d2-be08-7171dce6df36",
   "metadata": {},
   "outputs": [],
   "source": [
    "u_lon = -80\n",
    "u_lat = -10\n",
    "x = ee.Geometry.Point([u_lon, u_lat])"
   ]
  },
  {
   "cell_type": "code",
   "execution_count": 10,
   "id": "f9a9d6ae-084a-4565-af79-1d9d63453f9d",
   "metadata": {},
   "outputs": [],
   "source": [
    "# See image properties with their names and values\n",
    "\n",
    "fishing_image = ee.ImageCollection('GFW/GFF/V1/fishing_hours') \\\n",
    "    .filterBounds(x) \\\n",
    "    .filter(ee.Filter.date('2015-01-01', '2015-01-10')) \\\n",
    "    .first()"
   ]
  },
  {
   "cell_type": "code",
   "execution_count": 11,
   "id": "d915d5cd-c47c-4414-ba7d-0b1d4c5e8718",
   "metadata": {},
   "outputs": [
    {
     "data": {
      "text/plain": [
       "{'IMAGE_DATE': '2015-01-01',\n",
       " 'NOMINAL_SCALE': 1113.1949079327358,\n",
       " 'country': 'ARG',\n",
       " 'system:asset_size': '0.015705 MB',\n",
       " 'system:band_names': ['drifting_longlines',\n",
       "  'fixed_gear',\n",
       "  'other_fishing',\n",
       "  'purse_seines',\n",
       "  'squid_jigger',\n",
       "  'trawlers'],\n",
       " 'system:id': 'GFW/GFF/V1/fishing_hours/ARG-20150101',\n",
       " 'system:index': 'ARG-20150101',\n",
       " 'system:time_end': '2015-01-02 00:00:00',\n",
       " 'system:time_start': '2015-01-01 00:00:00',\n",
       " 'system:version': 1518618589881092}"
      ]
     },
     "execution_count": 11,
     "metadata": {},
     "output_type": "execute_result"
    }
   ],
   "source": [
    "fishing_props = geemap.image_props(fishing_image)\n",
    "fishing_props.getInfo()\n"
   ]
  },
  {
   "cell_type": "code",
   "execution_count": 12,
   "id": "0b7033f3-4276-403e-ae9b-60127f250fa6",
   "metadata": {},
   "outputs": [
    {
     "name": "stdout",
     "output_type": "stream",
     "text": [
      "Country:  ARG\n"
     ]
    }
   ],
   "source": [
    "country = fishing_props.get('country')\n",
    "print('Country: ', country.getInfo())"
   ]
  },
  {
   "cell_type": "code",
   "execution_count": 37,
   "id": "bf7e9eef-a902-4411-b02c-2bbb73659f25",
   "metadata": {},
   "outputs": [
    {
     "name": "stdout",
     "output_type": "stream",
     "text": [
      "Metadata properties:  ['system:time_start', 'country', 'system:footprint', 'system:time_end', 'system:version', 'system:id', 'system:asset_size', 'system:index', 'system:bands', 'system:band_names']\n"
     ]
    }
   ],
   "source": [
    "properties = fishing_image.propertyNames()\n",
    "print('Metadata properties: ', properties.getInfo())"
   ]
  },
  {
   "cell_type": "code",
   "execution_count": 31,
   "id": "8c22e2ad-cf71-4bd1-b2cf-2e37cb017a60",
   "metadata": {},
   "outputs": [
    {
     "data": {
      "text/plain": [
       "<ee.image.Image at 0x7f71be576a10>"
      ]
     },
     "execution_count": 31,
     "metadata": {},
     "output_type": "execute_result"
    }
   ],
   "source": [
    "def flag_totals(gee_snipet, lon, lat, flag, start_date, end_date):\n",
    "    dataset_name = ee.ImageCollection(gee_snipet)\n",
    "    area = ee.Geometry.Point([lon, lat])\n",
    "    collection = (dataset_name\n",
    "                  .filterMetadata('country', 'equals', flag)\n",
    "                  .filterDate(start_date, end_date)\n",
    "                  .filter(ee.Filter.bounds(area))\n",
    "                  .sum())\n",
    "    return ee.Image(collection)\n",
    "\n",
    "flag_totals('GFW/GFF/V1/fishing_hours',-80.5,-10.5, \"ARG\",'2016-01-01','2017-01-01')"
   ]
  },
  {
   "cell_type": "code",
   "execution_count": 34,
   "id": "a1a0d40b-8bbb-40e0-b106-7572d20a5005",
   "metadata": {},
   "outputs": [
    {
     "name": "stdout",
     "output_type": "stream",
     "text": [
      "ee.Image({\n",
      "  \"functionInvocationValue\": {\n",
      "    \"functionName\": \"Image.reduce\",\n",
      "    \"arguments\": {\n",
      "      \"image\": {\n",
      "        \"functionInvocationValue\": {\n",
      "          \"functionName\": \"reduce.sum\",\n",
      "          \"arguments\": {\n",
      "            \"collection\": {\n",
      "              \"functionInvocationValue\": {\n",
      "                \"functionName\": \"Collection.filter\",\n",
      "                \"arguments\": {\n",
      "                  \"collection\": {\n",
      "                    \"functionInvocationValue\": {\n",
      "                      \"functionName\": \"Collection.filter\",\n",
      "                      \"arguments\": {\n",
      "                        \"collection\": {\n",
      "                          \"functionInvocationValue\": {\n",
      "                            \"functionName\": \"Collection.filter\",\n",
      "                            \"arguments\": {\n",
      "                              \"collection\": {\n",
      "                                \"functionInvocationValue\": {\n",
      "                                  \"functionName\": \"ImageCollection.load\",\n",
      "                                  \"arguments\": {\n",
      "                                    \"id\": {\n",
      "                                      \"constantValue\": \"GFW/GFF/V1/fishing_hours\"\n",
      "                                    }\n",
      "                                  }\n",
      "                                }\n",
      "                              },\n",
      "                              \"filter\": {\n",
      "                                \"functionInvocationValue\": {\n",
      "                                  \"functionName\": \"Filter.equals\",\n",
      "                                  \"arguments\": {\n",
      "                                    \"leftField\": {\n",
      "                                      \"constantValue\": \"country\"\n",
      "                                    },\n",
      "                                    \"rightValue\": {\n",
      "                                      \"constantValue\": \"ARG\"\n",
      "                                    }\n",
      "                                  }\n",
      "                                }\n",
      "                              }\n",
      "                            }\n",
      "                          }\n",
      "                        },\n",
      "                        \"filter\": {\n",
      "                          \"functionInvocationValue\": {\n",
      "                            \"functionName\": \"Filter.dateRangeContains\",\n",
      "                            \"arguments\": {\n",
      "                              \"leftValue\": {\n",
      "                                \"functionInvocationValue\": {\n",
      "                                  \"functionName\": \"DateRange\",\n",
      "                                  \"arguments\": {\n",
      "                                    \"end\": {\n",
      "                                      \"constantValue\": \"2017-01-01\"\n",
      "                                    },\n",
      "                                    \"start\": {\n",
      "                                      \"constantValue\": \"2016-01-01\"\n",
      "                                    }\n",
      "                                  }\n",
      "                                }\n",
      "                              },\n",
      "                              \"rightField\": {\n",
      "                                \"constantValue\": \"system:time_start\"\n",
      "                              }\n",
      "                            }\n",
      "                          }\n",
      "                        }\n",
      "                      }\n",
      "                    }\n",
      "                  },\n",
      "                  \"filter\": {\n",
      "                    \"functionInvocationValue\": {\n",
      "                      \"functionName\": \"Filter.intersects\",\n",
      "                      \"arguments\": {\n",
      "                        \"leftField\": {\n",
      "                          \"constantValue\": \".all\"\n",
      "                        },\n",
      "                        \"rightValue\": {\n",
      "                          \"functionInvocationValue\": {\n",
      "                            \"functionName\": \"Feature\",\n",
      "                            \"arguments\": {\n",
      "                              \"geometry\": {\n",
      "                                \"functionInvocationValue\": {\n",
      "                                  \"functionName\": \"GeometryConstructors.Point\",\n",
      "                                  \"arguments\": {\n",
      "                                    \"coordinates\": {\n",
      "                                      \"constantValue\": [\n",
      "                                        -80.5,\n",
      "                                        -10.5\n",
      "                                      ]\n",
      "                                    }\n",
      "                                  }\n",
      "                                }\n",
      "                              }\n",
      "                            }\n",
      "                          }\n",
      "                        }\n",
      "                      }\n",
      "                    }\n",
      "                  }\n",
      "                }\n",
      "              }\n",
      "            }\n",
      "          }\n",
      "        }\n",
      "      },\n",
      "      \"reducer\": {\n",
      "        \"functionInvocationValue\": {\n",
      "          \"functionName\": \"Reducer.sum\",\n",
      "          \"arguments\": {}\n",
      "        }\n",
      "      }\n",
      "    }\n",
      "  }\n",
      "})\n"
     ]
    }
   ],
   "source": [
    "arg = flag_totals('GFW/GFF/V1/fishing_hours',-80.5,-10.5, \"ARG\",'2016-01-01','2017-01-01')\n",
    "\n",
    "arg_all = arg.reduce(ee.Reducer.sum())\n",
    "\n",
    "print(arg_all)"
   ]
  },
  {
   "cell_type": "code",
   "execution_count": 35,
   "id": "b82c26bc-811a-4246-ba62-1314931e19e8",
   "metadata": {},
   "outputs": [
    {
     "name": "stdout",
     "output_type": "stream",
     "text": [
      "ee.Image({\n",
      "  \"functionInvocationValue\": {\n",
      "    \"functionName\": \"Image.select\",\n",
      "    \"arguments\": {\n",
      "      \"bandSelectors\": {\n",
      "        \"constantValue\": [\n",
      "          \"drifting_longlines\"\n",
      "        ]\n",
      "      },\n",
      "      \"input\": {\n",
      "        \"functionInvocationValue\": {\n",
      "          \"functionName\": \"reduce.sum\",\n",
      "          \"arguments\": {\n",
      "            \"collection\": {\n",
      "              \"functionInvocationValue\": {\n",
      "                \"functionName\": \"Collection.filter\",\n",
      "                \"arguments\": {\n",
      "                  \"collection\": {\n",
      "                    \"functionInvocationValue\": {\n",
      "                      \"functionName\": \"Collection.filter\",\n",
      "                      \"arguments\": {\n",
      "                        \"collection\": {\n",
      "                          \"functionInvocationValue\": {\n",
      "                            \"functionName\": \"Collection.filter\",\n",
      "                            \"arguments\": {\n",
      "                              \"collection\": {\n",
      "                                \"functionInvocationValue\": {\n",
      "                                  \"functionName\": \"ImageCollection.load\",\n",
      "                                  \"arguments\": {\n",
      "                                    \"id\": {\n",
      "                                      \"constantValue\": \"GFW/GFF/V1/fishing_hours\"\n",
      "                                    }\n",
      "                                  }\n",
      "                                }\n",
      "                              },\n",
      "                              \"filter\": {\n",
      "                                \"functionInvocationValue\": {\n",
      "                                  \"functionName\": \"Filter.equals\",\n",
      "                                  \"arguments\": {\n",
      "                                    \"leftField\": {\n",
      "                                      \"constantValue\": \"country\"\n",
      "                                    },\n",
      "                                    \"rightValue\": {\n",
      "                                      \"constantValue\": \"ARG\"\n",
      "                                    }\n",
      "                                  }\n",
      "                                }\n",
      "                              }\n",
      "                            }\n",
      "                          }\n",
      "                        },\n",
      "                        \"filter\": {\n",
      "                          \"functionInvocationValue\": {\n",
      "                            \"functionName\": \"Filter.dateRangeContains\",\n",
      "                            \"arguments\": {\n",
      "                              \"leftValue\": {\n",
      "                                \"functionInvocationValue\": {\n",
      "                                  \"functionName\": \"DateRange\",\n",
      "                                  \"arguments\": {\n",
      "                                    \"end\": {\n",
      "                                      \"constantValue\": \"2017-01-01\"\n",
      "                                    },\n",
      "                                    \"start\": {\n",
      "                                      \"constantValue\": \"2016-01-01\"\n",
      "                                    }\n",
      "                                  }\n",
      "                                }\n",
      "                              },\n",
      "                              \"rightField\": {\n",
      "                                \"constantValue\": \"system:time_start\"\n",
      "                              }\n",
      "                            }\n",
      "                          }\n",
      "                        }\n",
      "                      }\n",
      "                    }\n",
      "                  },\n",
      "                  \"filter\": {\n",
      "                    \"functionInvocationValue\": {\n",
      "                      \"functionName\": \"Filter.intersects\",\n",
      "                      \"arguments\": {\n",
      "                        \"leftField\": {\n",
      "                          \"constantValue\": \".all\"\n",
      "                        },\n",
      "                        \"rightValue\": {\n",
      "                          \"functionInvocationValue\": {\n",
      "                            \"functionName\": \"Feature\",\n",
      "                            \"arguments\": {\n",
      "                              \"geometry\": {\n",
      "                                \"functionInvocationValue\": {\n",
      "                                  \"functionName\": \"GeometryConstructors.Point\",\n",
      "                                  \"arguments\": {\n",
      "                                    \"coordinates\": {\n",
      "                                      \"constantValue\": [\n",
      "                                        -80.5,\n",
      "                                        -10.5\n",
      "                                      ]\n",
      "                                    }\n",
      "                                  }\n",
      "                                }\n",
      "                              }\n",
      "                            }\n",
      "                          }\n",
      "                        }\n",
      "                      }\n",
      "                    }\n",
      "                  }\n",
      "                }\n",
      "              }\n",
      "            }\n",
      "          }\n",
      "        }\n",
      "      }\n",
      "    }\n",
      "  }\n",
      "})\n"
     ]
    }
   ],
   "source": [
    "arg_drift_lines = arg.select('drifting_longlines')\n",
    "\n",
    "print(arg_drift_lines)"
   ]
  },
  {
   "cell_type": "code",
   "execution_count": 18,
   "id": "67cec383-0e97-457a-87be-a902a78ecc7c",
   "metadata": {},
   "outputs": [
    {
     "ename": "AttributeError",
     "evalue": "'ComputedObject' object has no attribute 'getRegion'",
     "output_type": "error",
     "traceback": [
      "\u001b[0;31m---------------------------------------------------------------------------\u001b[0m",
      "\u001b[0;31mAttributeError\u001b[0m                            Traceback (most recent call last)",
      "Input \u001b[0;32mIn [18]\u001b[0m, in \u001b[0;36m<cell line: 20>\u001b[0;34m()\u001b[0m\n\u001b[1;32m     16\u001b[0m     \u001b[38;5;28mprint\u001b[39m(\u001b[38;5;124m\"\u001b[39m\u001b[38;5;124mThe Top 5 Largest values are:\u001b[39m\u001b[38;5;130;01m\\n\u001b[39;00m\u001b[38;5;124m\"\u001b[39m, list5,\u001b[38;5;124m\"\u001b[39m\u001b[38;5;130;01m\\n\u001b[39;00m\u001b[38;5;130;01m\\n\u001b[39;00m\u001b[38;5;124m\"\u001b[39m)\n\u001b[1;32m     17\u001b[0m     \u001b[38;5;28mprint\u001b[39m(df\u001b[38;5;241m.\u001b[39miloc[list5\u001b[38;5;241m.\u001b[39mindex\u001b[38;5;241m-\u001b[39m\u001b[38;5;241m1\u001b[39m],\u001b[38;5;124m\"\u001b[39m\u001b[38;5;130;01m\\n\u001b[39;00m\u001b[38;5;130;01m\\n\u001b[39;00m\u001b[38;5;124m\"\u001b[39m)\n\u001b[0;32m---> 20\u001b[0m \u001b[43mget_info_bands\u001b[49m\u001b[43m(\u001b[49m\u001b[38;5;241;43m-\u001b[39;49m\u001b[38;5;241;43m10.5\u001b[39;49m\u001b[43m,\u001b[49m\u001b[38;5;241;43m-\u001b[39;49m\u001b[38;5;241;43m80\u001b[39;49m\u001b[43m,\u001b[49m\u001b[43m \u001b[49m\u001b[38;5;124;43m\"\u001b[39;49m\u001b[38;5;124;43mcountry\u001b[39;49m\u001b[38;5;124;43m\"\u001b[39;49m\u001b[43m \u001b[49m\u001b[43m,\u001b[49m\u001b[38;5;124;43m\"\u001b[39;49m\u001b[38;5;124;43mGFW/GFF/V1/fishing_hours\u001b[39;49m\u001b[38;5;124;43m\"\u001b[39;49m\u001b[43m,\u001b[49m\u001b[43m \u001b[49m\u001b[38;5;241;43m1000\u001b[39;49m\u001b[43m)\u001b[49m\n",
      "Input \u001b[0;32mIn [18]\u001b[0m, in \u001b[0;36mget_info_bands\u001b[0;34m(lat, lon, id, gee_snipet, scale)\u001b[0m\n\u001b[1;32m      4\u001b[0m area \u001b[38;5;241m=\u001b[39m ee\u001b[38;5;241m.\u001b[39mGeometry\u001b[38;5;241m.\u001b[39mPoint([lon, lat])\n\u001b[1;32m      5\u001b[0m country \u001b[38;5;241m=\u001b[39m x\u001b[38;5;241m.\u001b[39mget(\u001b[38;5;28mid\u001b[39m)\n\u001b[0;32m----> 6\u001b[0m time_series \u001b[38;5;241m=\u001b[39m \u001b[43mcountry\u001b[49m\u001b[38;5;241;43m.\u001b[39;49m\u001b[43mgetRegion\u001b[49m(area,scale)\u001b[38;5;241m.\u001b[39mgetInfo()\n\u001b[1;32m      7\u001b[0m df \u001b[38;5;241m=\u001b[39m pd\u001b[38;5;241m.\u001b[39mDataFrame(time_series)\n\u001b[1;32m      8\u001b[0m headers \u001b[38;5;241m=\u001b[39m df\u001b[38;5;241m.\u001b[39mloc[\u001b[38;5;241m0\u001b[39m]\n",
      "\u001b[0;31mAttributeError\u001b[0m: 'ComputedObject' object has no attribute 'getRegion'"
     ]
    }
   ],
   "source": [
    "# Function to create a df with the band info\n",
    "def get_info_bands(lat,lon,id,gee_snipet,scale):\n",
    "    x = ee.ImageCollection(gee_snipet)\n",
    "    area = ee.Geometry.Point([lon, lat])\n",
    "    country = x.get(id)\n",
    "    time_series = country.getRegion(area,scale).getInfo()\n",
    "    df = pd.DataFrame(time_series)\n",
    "    headers = df.loc[0]\n",
    "    df.columns = headers\n",
    "    df = df.drop(0)\n",
    "    df['datetime'] = pd.to_datetime(df['time'], unit='ms')\n",
    "    df[id] = df[id].astype(float)\n",
    "    print(df.head(),\"\\n\\n\")\n",
    "    print(df[id].describe(),\"\\n\\n\")\n",
    "    list5 = df[id].astype(float).nlargest(5)\n",
    "    print(\"The Top 5 Largest values are:\\n\", list5,\"\\n\\n\")\n",
    "    print(df.iloc[list5.index-1],\"\\n\\n\")\n",
    "\n",
    "    \n",
    "get_info_bands(-10.5,-80, \"country\" ,\"GFW/GFF/V1/fishing_hours\", 1000)"
   ]
  },
  {
   "cell_type": "code",
   "execution_count": 32,
   "id": "2c4621c8-eaee-40aa-b0bf-d88468d1aed2",
   "metadata": {},
   "outputs": [
    {
     "ename": "EEException",
     "evalue": "Collection.reduceColumns: Empty date ranges not supported for the current operation.",
     "output_type": "error",
     "traceback": [
      "\u001b[0;31m---------------------------------------------------------------------------\u001b[0m",
      "\u001b[0;31mHttpError\u001b[0m                                 Traceback (most recent call last)",
      "File \u001b[0;32m/opt/python/3.10.5/lib/python3.10/site-packages/ee/data.py:328\u001b[0m, in \u001b[0;36m_execute_cloud_call\u001b[0;34m(call, num_retries)\u001b[0m\n\u001b[1;32m    327\u001b[0m \u001b[38;5;28;01mtry\u001b[39;00m:\n\u001b[0;32m--> 328\u001b[0m   \u001b[38;5;28;01mreturn\u001b[39;00m \u001b[43mcall\u001b[49m\u001b[38;5;241;43m.\u001b[39;49m\u001b[43mexecute\u001b[49m\u001b[43m(\u001b[49m\u001b[43mnum_retries\u001b[49m\u001b[38;5;241;43m=\u001b[39;49m\u001b[43mnum_retries\u001b[49m\u001b[43m)\u001b[49m\n\u001b[1;32m    329\u001b[0m \u001b[38;5;28;01mexcept\u001b[39;00m googleapiclient\u001b[38;5;241m.\u001b[39merrors\u001b[38;5;241m.\u001b[39mHttpError \u001b[38;5;28;01mas\u001b[39;00m e:\n",
      "File \u001b[0;32m/opt/python/3.10.5/lib/python3.10/site-packages/googleapiclient/_helpers.py:134\u001b[0m, in \u001b[0;36mpositional.<locals>.positional_decorator.<locals>.positional_wrapper\u001b[0;34m(*args, **kwargs)\u001b[0m\n\u001b[1;32m    133\u001b[0m         logger\u001b[38;5;241m.\u001b[39mwarning(message)\n\u001b[0;32m--> 134\u001b[0m \u001b[38;5;28;01mreturn\u001b[39;00m \u001b[43mwrapped\u001b[49m\u001b[43m(\u001b[49m\u001b[38;5;241;43m*\u001b[39;49m\u001b[43margs\u001b[49m\u001b[43m,\u001b[49m\u001b[43m \u001b[49m\u001b[38;5;241;43m*\u001b[39;49m\u001b[38;5;241;43m*\u001b[39;49m\u001b[43mkwargs\u001b[49m\u001b[43m)\u001b[49m\n",
      "File \u001b[0;32m/opt/python/3.10.5/lib/python3.10/site-packages/googleapiclient/http.py:915\u001b[0m, in \u001b[0;36mHttpRequest.execute\u001b[0;34m(self, http, num_retries)\u001b[0m\n\u001b[1;32m    914\u001b[0m \u001b[38;5;28;01mif\u001b[39;00m resp\u001b[38;5;241m.\u001b[39mstatus \u001b[38;5;241m>\u001b[39m\u001b[38;5;241m=\u001b[39m \u001b[38;5;241m300\u001b[39m:\n\u001b[0;32m--> 915\u001b[0m     \u001b[38;5;28;01mraise\u001b[39;00m HttpError(resp, content, uri\u001b[38;5;241m=\u001b[39m\u001b[38;5;28mself\u001b[39m\u001b[38;5;241m.\u001b[39muri)\n\u001b[1;32m    916\u001b[0m \u001b[38;5;28;01mreturn\u001b[39;00m \u001b[38;5;28mself\u001b[39m\u001b[38;5;241m.\u001b[39mpostproc(resp, content)\n",
      "\u001b[0;31mHttpError\u001b[0m: <HttpError 400 when requesting https://earthengine.googleapis.com/v1alpha/projects/earthengine-legacy/value:compute?prettyPrint=false&alt=json returned \"Collection.reduceColumns: Empty date ranges not supported for the current operation.\". Details: \"Collection.reduceColumns: Empty date ranges not supported for the current operation.\">",
      "\nDuring handling of the above exception, another exception occurred:\n",
      "\u001b[0;31mEEException\u001b[0m                               Traceback (most recent call last)",
      "Input \u001b[0;32mIn [32]\u001b[0m, in \u001b[0;36m<cell line: 18>\u001b[0;34m()\u001b[0m\n\u001b[1;32m     14\u001b[0m     \u001b[38;5;28mprint\u001b[39m(\u001b[38;5;124m\"\u001b[39m\u001b[38;5;124mCount:\u001b[39m\u001b[38;5;124m\"\u001b[39m, \u001b[38;5;28mstr\u001b[39m(count\u001b[38;5;241m.\u001b[39mgetInfo())\u001b[38;5;241m+\u001b[39m \u001b[38;5;124m'\u001b[39m\u001b[38;5;130;01m\\n\u001b[39;00m\u001b[38;5;124m'\u001b[39m)\n\u001b[1;32m     15\u001b[0m     \u001b[38;5;28mprint\u001b[39m(bands_list)\n\u001b[0;32m---> 18\u001b[0m \u001b[43mget_count_images\u001b[49m\u001b[43m(\u001b[49m\u001b[38;5;241;43m-\u001b[39;49m\u001b[38;5;241;43m10\u001b[39;49m\u001b[43m,\u001b[49m\u001b[43m \u001b[49m\u001b[38;5;241;43m-\u001b[39;49m\u001b[38;5;241;43m80.2\u001b[39;49m\u001b[43m,\u001b[49m\u001b[43m \u001b[49m\u001b[38;5;124;43m'\u001b[39;49m\u001b[38;5;124;43mGFW/GFF/V1/fishing_hours\u001b[39;49m\u001b[38;5;124;43m'\u001b[39;49m\u001b[43m,\u001b[49m\u001b[43m \u001b[49m\u001b[38;5;124;43m'\u001b[39;49m\u001b[38;5;124;43m20015-07-18\u001b[39;49m\u001b[38;5;124;43m'\u001b[39;49m\u001b[43m,\u001b[49m\u001b[43m \u001b[49m\u001b[38;5;124;43m'\u001b[39;49m\u001b[38;5;124;43m2015-07-20\u001b[39;49m\u001b[38;5;124;43m'\u001b[39;49m\u001b[43m)\u001b[49m\n",
      "Input \u001b[0;32mIn [32]\u001b[0m, in \u001b[0;36mget_count_images\u001b[0;34m(lat, lon, gee_snipet, start_date, end_date)\u001b[0m\n\u001b[1;32m     12\u001b[0m count \u001b[38;5;241m=\u001b[39m collection\u001b[38;5;241m.\u001b[39msize()\n\u001b[1;32m     13\u001b[0m \u001b[38;5;66;03m#print(collection)\u001b[39;00m\n\u001b[0;32m---> 14\u001b[0m \u001b[38;5;28mprint\u001b[39m(\u001b[38;5;124m\"\u001b[39m\u001b[38;5;124mCount:\u001b[39m\u001b[38;5;124m\"\u001b[39m, \u001b[38;5;28mstr\u001b[39m(\u001b[43mcount\u001b[49m\u001b[38;5;241;43m.\u001b[39;49m\u001b[43mgetInfo\u001b[49m\u001b[43m(\u001b[49m\u001b[43m)\u001b[49m)\u001b[38;5;241m+\u001b[39m \u001b[38;5;124m'\u001b[39m\u001b[38;5;130;01m\\n\u001b[39;00m\u001b[38;5;124m'\u001b[39m)\n\u001b[1;32m     15\u001b[0m \u001b[38;5;28mprint\u001b[39m(bands_list)\n",
      "File \u001b[0;32m/opt/python/3.10.5/lib/python3.10/site-packages/ee/computedobject.py:98\u001b[0m, in \u001b[0;36mComputedObject.getInfo\u001b[0;34m(self)\u001b[0m\n\u001b[1;32m     92\u001b[0m \u001b[38;5;28;01mdef\u001b[39;00m \u001b[38;5;21mgetInfo\u001b[39m(\u001b[38;5;28mself\u001b[39m):\n\u001b[1;32m     93\u001b[0m   \u001b[38;5;124;03m\"\"\"Fetch and return information about this object.\u001b[39;00m\n\u001b[1;32m     94\u001b[0m \n\u001b[1;32m     95\u001b[0m \u001b[38;5;124;03m  Returns:\u001b[39;00m\n\u001b[1;32m     96\u001b[0m \u001b[38;5;124;03m    The object can evaluate to anything.\u001b[39;00m\n\u001b[1;32m     97\u001b[0m \u001b[38;5;124;03m  \"\"\"\u001b[39;00m\n\u001b[0;32m---> 98\u001b[0m   \u001b[38;5;28;01mreturn\u001b[39;00m \u001b[43mdata\u001b[49m\u001b[38;5;241;43m.\u001b[39;49m\u001b[43mcomputeValue\u001b[49m\u001b[43m(\u001b[49m\u001b[38;5;28;43mself\u001b[39;49m\u001b[43m)\u001b[49m\n",
      "File \u001b[0;32m/opt/python/3.10.5/lib/python3.10/site-packages/ee/data.py:738\u001b[0m, in \u001b[0;36mcomputeValue\u001b[0;34m(obj)\u001b[0m\n\u001b[1;32m    735\u001b[0m \u001b[38;5;28;01mif\u001b[39;00m workload_tag:\n\u001b[1;32m    736\u001b[0m   body[\u001b[38;5;124m'\u001b[39m\u001b[38;5;124mworkloadTag\u001b[39m\u001b[38;5;124m'\u001b[39m] \u001b[38;5;241m=\u001b[39m workload_tag\n\u001b[0;32m--> 738\u001b[0m \u001b[38;5;28;01mreturn\u001b[39;00m \u001b[43m_execute_cloud_call\u001b[49m\u001b[43m(\u001b[49m\n\u001b[1;32m    739\u001b[0m \u001b[43m    \u001b[49m\u001b[43m_get_cloud_api_resource\u001b[49m\u001b[43m(\u001b[49m\u001b[43m)\u001b[49m\u001b[38;5;241;43m.\u001b[39;49m\u001b[43mprojects\u001b[49m\u001b[43m(\u001b[49m\u001b[43m)\u001b[49m\u001b[38;5;241;43m.\u001b[39;49m\u001b[43mvalue\u001b[49m\u001b[43m(\u001b[49m\u001b[43m)\u001b[49m\u001b[38;5;241;43m.\u001b[39;49m\u001b[43mcompute\u001b[49m\u001b[43m(\u001b[49m\n\u001b[1;32m    740\u001b[0m \u001b[43m        \u001b[49m\u001b[43mbody\u001b[49m\u001b[38;5;241;43m=\u001b[39;49m\u001b[43mbody\u001b[49m\u001b[43m,\u001b[49m\n\u001b[1;32m    741\u001b[0m \u001b[43m        \u001b[49m\u001b[43mproject\u001b[49m\u001b[38;5;241;43m=\u001b[39;49m\u001b[43m_get_projects_path\u001b[49m\u001b[43m(\u001b[49m\u001b[43m)\u001b[49m\u001b[43m,\u001b[49m\n\u001b[1;32m    742\u001b[0m \u001b[43m        \u001b[49m\u001b[43mprettyPrint\u001b[49m\u001b[38;5;241;43m=\u001b[39;49m\u001b[38;5;28;43;01mFalse\u001b[39;49;00m\u001b[43m)\u001b[49m\u001b[43m)\u001b[49m[\u001b[38;5;124m'\u001b[39m\u001b[38;5;124mresult\u001b[39m\u001b[38;5;124m'\u001b[39m]\n",
      "File \u001b[0;32m/opt/python/3.10.5/lib/python3.10/site-packages/ee/data.py:330\u001b[0m, in \u001b[0;36m_execute_cloud_call\u001b[0;34m(call, num_retries)\u001b[0m\n\u001b[1;32m    328\u001b[0m   \u001b[38;5;28;01mreturn\u001b[39;00m call\u001b[38;5;241m.\u001b[39mexecute(num_retries\u001b[38;5;241m=\u001b[39mnum_retries)\n\u001b[1;32m    329\u001b[0m \u001b[38;5;28;01mexcept\u001b[39;00m googleapiclient\u001b[38;5;241m.\u001b[39merrors\u001b[38;5;241m.\u001b[39mHttpError \u001b[38;5;28;01mas\u001b[39;00m e:\n\u001b[0;32m--> 330\u001b[0m   \u001b[38;5;28;01mraise\u001b[39;00m _translate_cloud_exception(e)\n",
      "\u001b[0;31mEEException\u001b[0m: Collection.reduceColumns: Empty date ranges not supported for the current operation."
     ]
    }
   ],
   "source": [
    "#Get the number if images in the region and in the time frame\n",
    "\n",
    "\n",
    "def get_count_images(lat,lon,gee_snipet,start_date,end_date):\n",
    "    dataset_name = ee.ImageCollection(gee_snipet)\n",
    "    area = ee.Geometry.Point([lon, lat])\n",
    "    collection = (dataset_name\n",
    "                  .filterDate(start_date, end_date)\n",
    "                  .filter(ee.Filter.bounds(area)))\n",
    "    first_image = collection.first()\n",
    "    bands_list = first_image.bandNames().getInfo()\n",
    "    count = collection.size()\n",
    "    #print(collection)\n",
    "    print(\"Count:\", str(count.getInfo())+ '\\n')\n",
    "    print(bands_list)\n",
    "    \n",
    "    \n",
    "get_count_images(-10, -80.2, 'GFW/GFF/V1/fishing_hours', '20015-07-18', '2015-07-20')\n"
   ]
  }
 ],
 "metadata": {
  "kernelspec": {
   "display_name": "Python 3 (ipykernel)",
   "language": "python",
   "name": "python3"
  },
  "language_info": {
   "codemirror_mode": {
    "name": "ipython",
    "version": 3
   },
   "file_extension": ".py",
   "mimetype": "text/x-python",
   "name": "python",
   "nbconvert_exporter": "python",
   "pygments_lexer": "ipython3",
   "version": "3.10.5"
  }
 },
 "nbformat": 4,
 "nbformat_minor": 5
}

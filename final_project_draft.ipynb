{
 "cells": [
  {
   "cell_type": "markdown",
   "id": "2646a34e-a634-47ac-9fe7-73bf40ece8ae",
   "metadata": {},
   "source": [
    "# Trends in Fishing Effort Related to El Niño Events Using AIS Data from Global Fishing Watch.\n"
   ]
  },
  {
   "cell_type": "markdown",
   "id": "dc47afd0-adb0-4d5b-8903-992b7904322e",
   "metadata": {},
   "source": [
    "## Authors\n",
    "- Jessica French \n",
    "  jfrench@bren.ucsb.edu\n",
    "  \n",
    "- Javier Patrón \n",
    "  jpatron@ucsb.edu\n",
    "\n",
    "- Pol Carbó Mestre\n",
    "  pcarbomestre@ucsb.edu"
   ]
  },
  {
   "cell_type": "markdown",
   "id": "1e8c2013-fef1-44ac-bb00-3215807cacac",
   "metadata": {},
   "source": [
    "## Table of Contents\n",
    "\n",
    "[1. Purpose](#purpose)\n",
    "\n",
    "[2. Dataset Description](#overview)\n",
    "\n",
    "[3. Data I/O](#io)\n",
    "\n",
    "[4. Metadata Display and Basic Visualization](#display)\n",
    "\n",
    "[5. Use Case Examples](#usecases)\n",
    "\n",
    "[6. Create Binder Environment](#binder)\n",
    "\n",
    "[7. References](#references)"
   ]
  },
  {
   "cell_type": "markdown",
   "id": "ba52c6e3-3584-48be-b500-21578b61bd72",
   "metadata": {},
   "source": [
    "<a id='purpose'></a> \n",
    "### Notebook Purpose\n",
    "\n",
    "The purpose of this notebook is to explore Global Fishing Watch's dataset showing daily fishing effort as inferred fishing hours daily. This notebook will show how to read in the dataset, visualize the data using google earth engine, and give an overview of how the data can be used to explore changes in fishing effort relative to ENSO events. \n"
   ]
  },
  {
   "cell_type": "markdown",
   "id": "d429260a-2c30-44da-a5af-e100a440056a",
   "metadata": {},
   "source": [
    "<a id='overview'></a> \n",
    "### Dataset Description\n",
    "\n",
    "The Global Fishing Watch (GFW) provides an open platform to access automatic identification system (AIS) data from commercial fishing activities. The AIS is a tracking system that uses transceivers on ships to broadcast vessel information such as unique identification, position, course, and speed. AIS is integrated into all classes of vessels as a collision avoidance tool. However, the GFW collects and processes raw AIS data related to fishing activities to improve records and assing additional information, such as the distance from shore, depth, etc. Then, with the use of machine learning models, they characterize vessels and fishing activities, which constitute some of the products available in their [API](https://globalfishingwatch.org/our-apis/documentation#introduction).\n",
    "\n",
    "Pre-processed AIS data can be accessed from their [R package \"gfwr\"](https://github.com/GlobalFishingWatch/gfwr) or downloaded from their [website](https://globalfishingwatch.org/data-download/) as .cvs files. For this project, we will use some of their existing products related to fishing effort. The data can be accessed from [Google Big Query](https://globalfishingwatch.org/data/our-data-in-bigquery/) in a less processed format and through Google Earth Engine (GEE) for two data subproducts [daily fishing hours](https://developers.google.com/earth-engine/datasets/catalog/GFW_GFF_V1_fishing_hours) and [daily vessel hours](https://developers.google.com/earth-engine/datasets/catalog/GFW_GFF_V1_vessel_hours#image-properties). For accessibility reasons, we will focus on the GEE data.\n",
    "\n",
    "Each image in the collection contains daily rasters of fishing effort measured in hours of inferred fishing activity per square kilometer. Data is available for a given flag state and day, over a 5 years period (2012-2017), with one band for the fishing activity of each of the following gear types:\n",
    "\n",
    "- Drifting longlines\n",
    "- Fixed gear\n",
    "- Other fishing\n",
    "- Purse seines\n",
    "- Squid jigger\n",
    "- Trawlers\n",
    "\n",
    "The data belongs to the [first global assessment of commercial fishing activity](https://www.science.org/doi/full/10.1126/science.aao5646), published in Science by GFW (2018). "
   ]
  },
  {
   "cell_type": "markdown",
   "id": "02d5cb75-cb54-4708-8b88-459cae2ca17d",
   "metadata": {},
   "source": [
    "<a id='io'></a> \n",
    "### Dataset Input/Output "
   ]
  },
  {
   "cell_type": "code",
   "execution_count": 1,
   "id": "e934a1b7-4ed1-4127-852d-08c405bac8ad",
   "metadata": {},
   "outputs": [],
   "source": [
    "# Import packages\n",
    "import ee\n",
    "import geemap\n",
    "import pandas as pd\n",
    "import matplotlib.pyplot as plt\n",
    "import numpy as np"
   ]
  },
  {
   "cell_type": "code",
   "execution_count": 2,
   "id": "51ab9c3e-a77c-4197-9ca9-ec64eca6cc02",
   "metadata": {},
   "outputs": [],
   "source": [
    "# Authenticate google earth engine\n",
    "#ee.Authenticate()"
   ]
  },
  {
   "cell_type": "code",
   "execution_count": 2,
   "id": "a53d7529-6902-49a9-ad2f-7e05d465d79a",
   "metadata": {},
   "outputs": [],
   "source": [
    "# Initialize google earth engine \n",
    "ee.Initialize()"
   ]
  },
  {
   "cell_type": "code",
   "execution_count": 3,
   "id": "fe36eba6-2ac2-47b3-8e91-e16f91f109d0",
   "metadata": {},
   "outputs": [],
   "source": [
    "# read in the data on fishing hours from google earth engine\n",
    "dataset = ee.ImageCollection('GFW/GFF/V1/fishing_hours')\n",
    "# read in data on total vessel hours from google earth engine\n",
    "dataset2 = ee.ImageCollection('GFW/GFF/V1/vessel_hours')"
   ]
  },
  {
   "cell_type": "markdown",
   "id": "73a29829-2d4a-42e2-a41c-9371e4f5a8ab",
   "metadata": {},
   "source": [
    "El Niño events can be identified using the Ocean Niño Index or ONI. The ONI index is a 3 month running mean of ERSST.v5 SST anomalies in the Niño 3.4 region (5 degrees North and South of the equator and between 120 and 170 degrees West). More information is available here.  https://origin.cpc.ncep.noaa.gov/products/analysis_monitoring/ensostuff/ONI_v5.php\n",
    "\n",
    "All of 2015 was above the threshhold of an El Niño event so we will focus on that time period for now. "
   ]
  },
  {
   "cell_type": "code",
   "execution_count": 4,
   "id": "fb0bdb35-e7bd-4953-98d4-6d0c545f4901",
   "metadata": {},
   "outputs": [],
   "source": [
    "# Filter data to El Niño in 2015. \n",
    "elnino_data = dataset.filter(ee.Filter.date('2015-01-01', '2016-01-01'))\n",
    "\n",
    "# Filter data to normal year 2013. \n",
    "normal_data = dataset.filter(ee.Filter.date('2013-01-01', '2014-01-01'))"
   ]
  },
  {
   "cell_type": "markdown",
   "id": "f547aa90-2c6d-4e53-ad8e-cecb882a6652",
   "metadata": {},
   "source": [
    "Two of the largest fishing ports in Peru are Paita and Callao. We will create a polygon that encompasses both and set that as our area of interest."
   ]
  },
  {
   "cell_type": "code",
   "execution_count": 5,
   "id": "fcbd337c-b039-4982-b325-7ae68296c06d",
   "metadata": {},
   "outputs": [],
   "source": [
    "# Define area of interest off the coast of Peru.\n",
    "roi = ee.Geometry.Polygon([[-84.997101, -12.93982],\n",
    "      [-84.997101, -3.79797],\n",
    "      [-76.295929, -3.79797],\n",
    "      [-76.295929, -12.93982],\n",
    "      [-84.997101, -12.93982]])\n",
    "\n",
    "#roi.getInfo()"
   ]
  },
  {
   "cell_type": "code",
   "execution_count": 6,
   "id": "6155d238-6ce6-4fdb-be52-8313cb4e8efe",
   "metadata": {},
   "outputs": [],
   "source": [
    "#visualization parameters for figure 1. \n",
    "trawlersVis = {\n",
    "  'min': 0.0,\n",
    "  'max': 5.0,\n",
    "  'palette': ['0d0887', '3d049b', '6903a5', '8d0fa1', 'ae2891', 'cb4679', 'df6363',\n",
    "  'f0844c', 'faa638', 'fbcc27', 'f0f921']\n",
    "}\n",
    "\n",
    "# Viz parameters for figure 2\n",
    "trawlersVis2 = {\n",
    "  'palette': ['0C276C', '3B9088', 'EEFF00', 'ffffff']\n",
    "}\n"
   ]
  },
  {
   "cell_type": "markdown",
   "id": "30253e61-0707-4540-9c86-9afc6df27958",
   "metadata": {},
   "source": [
    "<a id='display'></a> \n",
    "### Metadata Display and Basic Visualization"
   ]
  },
  {
   "cell_type": "markdown",
   "id": "b9c7eb94-37f8-4541-a22f-419eb2a2f454",
   "metadata": {},
   "source": [
    "#### Metadata Display"
   ]
  },
  {
   "cell_type": "code",
   "execution_count": 7,
   "id": "7b3e27ac-64e0-438a-aef3-e7a5a744f192",
   "metadata": {},
   "outputs": [],
   "source": [
    "# Define function to view bands of data.\n",
    "def get_image_ids(gee_snipet):\n",
    "  x = ee.ImageCollection(gee_snipet)\n",
    "  first_image = x.first()\n",
    "  bands_list = first_image.bandNames()\n",
    "  lista = bands_list.getInfo()\n",
    "  for i, val in enumerate(lista):\n",
    "    print(i,val)"
   ]
  },
  {
   "cell_type": "code",
   "execution_count": 9,
   "id": "f4c4cca9-e8d0-47d2-bad1-1ca6c714c830",
   "metadata": {},
   "outputs": [
    {
     "name": "stdout",
     "output_type": "stream",
     "text": [
      "{'type': 'Image', 'bands': [{'id': 'drifting_longlines', 'data_type': {'type': 'PixelType', 'precision': 'float'}, 'dimensions': [36000, 16500], 'crs': 'EPSG:4326', 'crs_transform': [0.01, 0, -180, 0, -0.01, 85]}, {'id': 'fixed_gear', 'data_type': {'type': 'PixelType', 'precision': 'float'}, 'dimensions': [36000, 16500], 'crs': 'EPSG:4326', 'crs_transform': [0.01, 0, -180, 0, -0.01, 85]}, {'id': 'other_fishing', 'data_type': {'type': 'PixelType', 'precision': 'float'}, 'dimensions': [36000, 16500], 'crs': 'EPSG:4326', 'crs_transform': [0.01, 0, -180, 0, -0.01, 85]}, {'id': 'purse_seines', 'data_type': {'type': 'PixelType', 'precision': 'float'}, 'dimensions': [36000, 16500], 'crs': 'EPSG:4326', 'crs_transform': [0.01, 0, -180, 0, -0.01, 85]}, {'id': 'squid_jigger', 'data_type': {'type': 'PixelType', 'precision': 'float'}, 'dimensions': [36000, 16500], 'crs': 'EPSG:4326', 'crs_transform': [0.01, 0, -180, 0, -0.01, 85]}, {'id': 'trawlers', 'data_type': {'type': 'PixelType', 'precision': 'float'}, 'dimensions': [36000, 16500], 'crs': 'EPSG:4326', 'crs_transform': [0.01, 0, -180, 0, -0.01, 85]}], 'version': 1518594814620050.0, 'id': 'GFW/GFF/V1/fishing_hours/ARG-20120101', 'properties': {'system:time_start': 1325376000000, 'country': 'ARG', 'system:footprint': {'type': 'LinearRing', 'coordinates': [[-180, -90], [180, -90], [180, 90], [-180, 90], [-180, -90]]}, 'system:time_end': 1325462400000, 'system:asset_size': 731, 'system:index': 'ARG-20120101'}}\n",
      "0 drifting_longlines\n",
      "1 fixed_gear\n",
      "2 other_fishing\n",
      "3 purse_seines\n",
      "4 squid_jigger\n",
      "5 trawlers\n",
      "None\n"
     ]
    }
   ],
   "source": [
    "# Extract the first image so we can look at info about the data in general. \n",
    "image_test = dataset.first()\n",
    "info = image_test.getInfo()\n",
    "print(info)\n",
    "    \n",
    "# Bands in dataset\n",
    "print(get_image_ids('GFW/GFF/V1/fishing_hours'))\n"
   ]
  },
  {
   "cell_type": "code",
   "execution_count": 10,
   "id": "16e6d40a-fe47-4b10-9357-3518105d189d",
   "metadata": {},
   "outputs": [
    {
     "name": "stdout",
     "output_type": "stream",
     "text": [
      "{'type': 'Image', 'bands': [{'id': 'drifting_longlines', 'data_type': {'type': 'PixelType', 'precision': 'float'}, 'dimensions': [36000, 16500], 'crs': 'EPSG:4326', 'crs_transform': [0.01, 0, -180, 0, -0.01, 85]}, {'id': 'fixed_gear', 'data_type': {'type': 'PixelType', 'precision': 'float'}, 'dimensions': [36000, 16500], 'crs': 'EPSG:4326', 'crs_transform': [0.01, 0, -180, 0, -0.01, 85]}, {'id': 'other_fishing', 'data_type': {'type': 'PixelType', 'precision': 'float'}, 'dimensions': [36000, 16500], 'crs': 'EPSG:4326', 'crs_transform': [0.01, 0, -180, 0, -0.01, 85]}, {'id': 'purse_seines', 'data_type': {'type': 'PixelType', 'precision': 'float'}, 'dimensions': [36000, 16500], 'crs': 'EPSG:4326', 'crs_transform': [0.01, 0, -180, 0, -0.01, 85]}, {'id': 'squid_jigger', 'data_type': {'type': 'PixelType', 'precision': 'float'}, 'dimensions': [36000, 16500], 'crs': 'EPSG:4326', 'crs_transform': [0.01, 0, -180, 0, -0.01, 85]}, {'id': 'trawlers', 'data_type': {'type': 'PixelType', 'precision': 'float'}, 'dimensions': [36000, 16500], 'crs': 'EPSG:4326', 'crs_transform': [0.01, 0, -180, 0, -0.01, 85]}], 'version': 1518596835369333, 'id': 'GFW/GFF/V1/vessel_hours/ARG-20120101', 'properties': {'system:time_start': 1325376000000, 'country': 'ARG', 'system:footprint': {'type': 'LinearRing', 'coordinates': [[-180, -90], [180, -90], [180, 90], [-180, 90], [-180, -90]]}, 'system:time_end': 1325462400000, 'system:asset_size': 22560, 'system:index': 'ARG-20120101'}}\n",
      "0 drifting_longlines\n",
      "1 fixed_gear\n",
      "2 other_fishing\n",
      "3 purse_seines\n",
      "4 squid_jigger\n",
      "5 trawlers\n",
      "None\n"
     ]
    }
   ],
   "source": [
    "# Show metadata\n",
    "image_test = dataset2.first()\n",
    "info = image_test.getInfo()\n",
    "print(info)\n",
    "\n",
    "#Show bands in dataset\n",
    "print(get_image_ids('GFW/GFF/V1/vessel_hours'))"
   ]
  },
  {
   "cell_type": "markdown",
   "id": "29e78af8-d7ec-4c5e-8421-7573366045db",
   "metadata": {},
   "source": [
    "#### Basic visualization examples\n",
    "\n",
    "1. The following map represents the fishing hours of purse seines off of the Peruvian coast in 2015:"
   ]
  },
  {
   "cell_type": "code",
   "execution_count": 8,
   "id": "a33389b3-2ad5-487f-8362-6a006e8a146e",
   "metadata": {},
   "outputs": [
    {
     "data": {
      "application/vnd.jupyter.widget-view+json": {
       "model_id": "eb507d28da3a4fe2badcf671180e3633",
       "version_major": 2,
       "version_minor": 0
      },
      "text/plain": [
       "Map(center=[-8.374518773889983, -80.64651499999998], controls=(ZoomControl(options=['position', 'zoom_in_text'…"
      ]
     },
     "metadata": {},
     "output_type": "display_data"
    }
   ],
   "source": [
    "# Metadata filter\n",
    "effort_all = dataset.filterMetadata('country', 'equals', 'WLD').filterDate('2015-01-01','2016-01-01');\n",
    "# Filter to region\n",
    "roi_data = effort_all.filterBounds(roi);\n",
    "# Filter to a single gear type.\n",
    "purse_seines = roi_data.select('purse_seines');\n",
    "# Aggregate 2016 collection to single image of global fishing effort\n",
    "purse_seines_2015 = purse_seines.sum();\n",
    "# Sum bands to get total effort across gear types\n",
    "#purse_seines_2015 = trawlers.reduce(ee.Reducer.sum());\n",
    "# Mask out pixels with no effort\n",
    "effort_purse_seines = purse_seines_2015.mask(purse_seines_2015.gt(0));\n",
    "\n",
    "\n",
    "# Note geemap does not work in VSCODE if runing with ipyleaflet > 0.16\n",
    "# make sure \"pip install ipyleaflet==0.16\"\n",
    "\n",
    "Map = geemap.Map()\n",
    "#Map2.setCenter(16.201, 38.316, 5)\n",
    "Map.setOptions('TERRAIN');\n",
    "Map.addLayer(effort_purse_seines, trawlersVis, 'Purse seines')\n",
    "Map.centerObject(roi, 5)\n",
    "\n",
    "Map"
   ]
  },
  {
   "cell_type": "markdown",
   "id": "c719027e-3e3e-4f28-bd7c-9adb64443247",
   "metadata": {},
   "source": [
    "2. The below is a representation of fishing hours across all gear types off of the Peruvian Coast. "
   ]
  },
  {
   "cell_type": "code",
   "execution_count": 9,
   "id": "c670c32e-522d-411a-9d8f-96e2aad3dbc1",
   "metadata": {},
   "outputs": [],
   "source": [
    "# Filter by \"WLD\" to get all global fishing vessel hours rasters in 2016\n",
    "effort_all = dataset.filterMetadata('country', 'equals', 'WLD').filterDate('2016-01-01','2017-01-01');\n",
    "# Aggregate 2016 collection to single image of global fishing effort\n",
    "effort_2016 = effort_all.sum();\n",
    "# Sum bands to get total effort across gear types\n",
    "effort_all_2016 = effort_2016.reduce(ee.Reducer.sum());\n",
    "# Mask out pixels with no effort\n",
    "effort_all_2016 = effort_all_2016.mask(effort_all_2016.gt(0));"
   ]
  },
  {
   "cell_type": "code",
   "execution_count": 10,
   "id": "7195ed7a-d074-47b2-b3a4-3f5624636f29",
   "metadata": {},
   "outputs": [
    {
     "data": {
      "application/vnd.jupyter.widget-view+json": {
       "model_id": "b16592b5dd44478bb6a89b97c545c924",
       "version_major": 2,
       "version_minor": 0
      },
      "text/plain": [
       "Map(center=[-8.374518773889983, -80.64651499999998], controls=(ZoomControl(options=['position', 'zoom_in_text'…"
      ]
     },
     "metadata": {},
     "output_type": "display_data"
    }
   ],
   "source": [
    "# Add the total fishing effort layer\n",
    "Map2 = geemap.Map(zoom = 2)\n",
    "Map2.setOptions('HYBRID');\n",
    "Map2.addLayer(effort_all_2016,trawlersVis);\n",
    "Map2.centerObject(roi, 5)\n",
    "Map2"
   ]
  },
  {
   "cell_type": "markdown",
   "id": "e7e81e16-c48e-4fea-be26-652c5f9ec32c",
   "metadata": {},
   "source": [
    "3. The code bellow selects selects all global fishing vessel hours of 2016, and displays it at our region of interest:"
   ]
  },
  {
   "cell_type": "code",
   "execution_count": 11,
   "id": "c93d0af6-99e8-4c4f-bb3c-58378c000c0d",
   "metadata": {},
   "outputs": [],
   "source": [
    "\n",
    "# Filter by \"WLD\" to get all global fishing vessel hours rasters in 2016\n",
    "effort_all = dataset2.filterMetadata('country', 'equals', 'WLD').filterDate('2016-01-01','2017-01-01');\n",
    "# Aggregate 2016 collection to single image of global fishing effort\n",
    "effort_2016 = effort_all.sum();\n",
    "# Sum bands to get total effort across gear types\n",
    "effort_all_2016 = effort_2016.reduce(ee.Reducer.sum());\n",
    "# Mask out pixels with no effort\n",
    "effort_all_2016 = effort_all_2016.mask(effort_all_2016.gt(0));"
   ]
  },
  {
   "cell_type": "code",
   "execution_count": 12,
   "id": "162084d0-14fc-4889-83af-87e5e9663e3f",
   "metadata": {},
   "outputs": [
    {
     "data": {
      "application/vnd.jupyter.widget-view+json": {
       "model_id": "518aac50577c4df0baf0e823fb88533f",
       "version_major": 2,
       "version_minor": 0
      },
      "text/plain": [
       "Map(center=[-8.374518773889983, -80.64651499999998], controls=(ZoomControl(options=['position', 'zoom_in_text'…"
      ]
     },
     "metadata": {},
     "output_type": "display_data"
    }
   ],
   "source": [
    "\n",
    "# Add the total fishing effort layer\n",
    "Map3 = geemap.Map(zoom = 2)\n",
    "Map3.setOptions('HYBRID');\n",
    "Map3.addLayer(effort_all_2016,trawlersVis2);\n",
    "Map3.centerObject(roi, 5)\n",
    "Map3"
   ]
  },
  {
   "cell_type": "markdown",
   "id": "2c5d0ba2",
   "metadata": {},
   "source": [
    "#### Data wrangling using EEZ mask"
   ]
  },
  {
   "cell_type": "code",
   "execution_count": 17,
   "id": "59fb3c45",
   "metadata": {},
   "outputs": [],
   "source": [
    "# Read Peru EEZ shp and transform to ee\n",
    "# import shapefile\n",
    "# peru_eez_shp = \"eez_peru/shp/eez_peru_simpl005.shp\"\n",
    "# peru_eez = geemap.shp_to_ee(peru_eez_shp)"
   ]
  },
  {
   "cell_type": "markdown",
   "id": "547ef564",
   "metadata": {},
   "source": [
    "Using geojson format"
   ]
  },
  {
   "cell_type": "code",
   "execution_count": 13,
   "id": "27ed9989",
   "metadata": {},
   "outputs": [],
   "source": [
    "# Complex geometry EEZ of Peru\n",
    "import json\n",
    "with open('eez_peru/geojson/eez_peru.geojson') as f:\n",
    "  geojson = json.load(f)\n",
    "coords = geojson[\"features\"][0][\"geometry\"][\"coordinates\"]\n"
   ]
  },
  {
   "cell_type": "code",
   "execution_count": 14,
   "id": "22ddb612",
   "metadata": {},
   "outputs": [],
   "source": [
    "# The resulting List from the geojson file has an extra bracket that we have to remove to be read it as a polygon\n",
    "from itertools import chain\n",
    "aoi = ee.Geometry.Polygon([i for i in chain.from_iterable(coords)])"
   ]
  },
  {
   "cell_type": "code",
   "execution_count": 15,
   "id": "02f79e1d",
   "metadata": {},
   "outputs": [],
   "source": [
    "\n",
    "# Filter by \"WLD\" to get all global fishing vessel hours rasters in 2016 by Peru's EEZ extend\n",
    "effort_all_EEZ = dataset.filterMetadata('country', 'equals', 'WLD') \\\n",
    "    .filterDate('2016-01-01','2017-01-01') \\\n",
    "        .filterBounds(aoi) \\\n",
    "            .map(lambda image: image.clip(aoi));\n",
    "# Aggregate 2016 collection to single image of global fishing effort\n",
    "effort_EZZ = effort_all_EEZ.sum();\n",
    "# Sum bands to get total effort across gear types\n",
    "effort_EZZ = effort_EZZ.reduce(ee.Reducer.sum());\n",
    "# Mask out pixels with no effort\n",
    "effort_EZZ = effort_EZZ.mask(effort_EZZ.gt(0));"
   ]
  },
  {
   "cell_type": "code",
   "execution_count": 16,
   "id": "3c9d2c94",
   "metadata": {},
   "outputs": [
    {
     "data": {
      "application/vnd.jupyter.widget-view+json": {
       "model_id": "c8d84a1fff4d47d6a7cc9e8e9d355614",
       "version_major": 2,
       "version_minor": 0
      },
      "text/plain": [
       "Map(center=[-11.842666123990998, -78.98239090768544], controls=(ZoomControl(options=['position', 'zoom_in_text…"
      ]
     },
     "metadata": {},
     "output_type": "display_data"
    }
   ],
   "source": [
    "# Add the total fishing effort layer\n",
    "Map4 = geemap.Map(zoom = 2)\n",
    "Map4.centerObject(aoi, 5)\n",
    "Map4.setOptions('HYBRID');\n",
    "Map4.addLayer(aoi, {'color': 'white','width': 1.5}, \"EEZ of Perú\");\n",
    "Map4.addLayer(effort_EZZ,trawlersVis2);\n",
    "Map4\n"
   ]
  },
  {
   "cell_type": "code",
   "execution_count": 17,
   "id": "703354bf",
   "metadata": {},
   "outputs": [],
   "source": [
    "import cartopy\n",
    "import cartopy.crs as ccrs\n",
    "from geemap import cartoee"
   ]
  },
  {
   "cell_type": "code",
   "execution_count": 18,
   "id": "140f4405",
   "metadata": {},
   "outputs": [
    {
     "data": {
      "text/plain": [
       "\"['sum']\""
      ]
     },
     "execution_count": 18,
     "metadata": {},
     "output_type": "execute_result"
    }
   ],
   "source": [
    "band_names = effort_EZZ.bandNames()\n",
    "str(band_names.getInfo())"
   ]
  },
  {
   "cell_type": "code",
   "execution_count": 19,
   "id": "c0ce7173",
   "metadata": {},
   "outputs": [
    {
     "data": {
      "image/png": "[encoded data removed]",
      "text/plain": [
       "<Figure size 1000x1500 with 2 Axes>"
      ]
     },
     "metadata": {},
     "output_type": "display_data"
    }
   ],
   "source": [
    "# Visualization parameters\n",
    "visParams = {'bands': ['sum'],\n",
    "             'min': 0,\n",
    "             'max': 5,\n",
    "            }\n",
    "\n",
    "fig = plt.figure(figsize=(10, 15))\n",
    "\n",
    "# create a new Plate-Carree projection \n",
    "projection = ccrs.PlateCarree()\n",
    "\n",
    "# plot the result with cartoee \n",
    "ax = cartoee.get_map(effort_EZZ, vis_params=visParams, proj=projection, cmap='coolwarm')\n",
    "\n",
    "# Define the lon/lat extent of the plot\n",
    "ax.set_extent([-88,-70,-2,-21])   \n",
    "\n",
    "# Draw in coastlines\n",
    "ax.coastlines()\n",
    "\n",
    "# Draw grid lines\n",
    "gl=ax.gridlines(crs=ccrs.PlateCarree(), draw_labels=True,\n",
    "                  linewidth=2, alpha=0.5, linestyle='--')\n",
    "\n",
    "# Set parameters for grid lines\n",
    "gl.xlabels_top = False\n",
    "gl.ylabels_right = False\n",
    "gl.xlabel_style = {'size': 15}\n",
    "gl.ylabel_style = {'size': 15}\n",
    "\n",
    "# Set plot title\n",
    "ax.set_title(label='Fishing Efford', fontsize=15)\n",
    "\n",
    "# Add color bar\n",
    "cartoee.add_colorbar(ax,visParams,loc=\"right\",cmap='coolwarm')\n",
    "\n",
    "# Display plot\n",
    "plt.show()"
   ]
  },
  {
   "cell_type": "markdown",
   "id": "4a4e5f8a",
   "metadata": {},
   "source": [
    "### Evaluate fishin outside the EEZ"
   ]
  },
  {
   "cell_type": "code",
   "execution_count": 27,
   "id": "293a332c",
   "metadata": {},
   "outputs": [
    {
     "data": {
      "application/vnd.jupyter.widget-view+json": {
       "model_id": "fe4f4e491b1444b8aebfbd6ffa1758bb",
       "version_major": 2,
       "version_minor": 0
      },
      "text/plain": [
       "Map(center=[-11.493252083428661, -79.9759195448968], controls=(ZoomControl(options=['position', 'zoom_in_text'…"
      ]
     },
     "metadata": {},
     "output_type": "display_data"
    }
   ],
   "source": [
    "# Setting new AOI including areas beyond the EEZ\n",
    "geojson = {\n",
    "  \"type\": \"FeatureCollection\",\n",
    "  \"features\": [\n",
    "    {\n",
    "      \"type\": \"Feature\",\n",
    "      \"properties\": {},\n",
    "      \"geometry\": {\n",
    "        \"coordinates\": [\n",
    "          [\n",
    "            [\n",
    "              -89.8703470212856,\n",
    "              -2.9010789371311176\n",
    "            ],\n",
    "            [\n",
    "              -89.8703470212856,\n",
    "              -19.936548732128458\n",
    "            ],\n",
    "            [\n",
    "              -70.081492068508,\n",
    "              -19.936548732128458\n",
    "            ],\n",
    "            [\n",
    "              -70.081492068508,\n",
    "              -2.9010789371311176\n",
    "            ],\n",
    "            [\n",
    "              -89.8703470212856,\n",
    "              -2.9010789371311176\n",
    "            ]\n",
    "          ]\n",
    "        ],\n",
    "        \"type\": \"Polygon\"\n",
    "      }\n",
    "    }\n",
    "  ]\n",
    "}\n",
    "coords = geojson[\"features\"][0][\"geometry\"][\"coordinates\"]\n",
    "aoi = ee.Geometry.Polygon(coords)\n",
    "\n",
    "# Filter by \"WLD\" to get all global fishing vessel hours rasters in 2016 by Peru's EEZ extend\n",
    "effort_all_EEZ = dataset.filterMetadata('country', 'equals', 'WLD') \\\n",
    "    .filterDate('2016-01-01','2017-01-01') \\\n",
    "        .filterBounds(aoi) \\\n",
    "            .map(lambda image: image.clip(aoi));\n",
    "# Aggregate 2016 collection to single image of global fishing effort\n",
    "effort_EZZ = effort_all_EEZ.sum();\n",
    "# Sum bands to get total effort across gear types\n",
    "effort_EZZ = effort_EZZ.reduce(ee.Reducer.sum());\n",
    "# Mask out pixels with no effort\n",
    "effort_EZZ = effort_EZZ.mask(effort_EZZ.gt(0));\n",
    "\n",
    "# Add the total fishing effort layer\n",
    "Map5 = geemap.Map(zoom = 2)\n",
    "Map5.centerObject(aoi, 5)\n",
    "Map5.setOptions('HYBRID');\n",
    "Map5.addLayer(aoi, {'color': 'white','width': 1.5}, \"EEZ of Perú\");\n",
    "Map5.addLayer(effort_EZZ,trawlersVis2);\n",
    "Map5"
   ]
  },
  {
   "cell_type": "markdown",
   "id": "62354cdf-609f-487d-be51-9ea306997a69",
   "metadata": {},
   "source": [
    "<a id='usecases'></a> \n",
    "### Use Case Examples"
   ]
  },
  {
   "cell_type": "markdown",
   "id": "9e5b04a9-b2bb-40ed-bb8c-9c75d3494c38",
   "metadata": {},
   "source": [
    "This is the \"meat\" of the notebook, and what will take the majority of the time to present in class. This section should provide:\n",
    "1) A plain-text summary (1-2 paragraphs) of the use case example you have chosen: include the target users and audience, and potential applicability. \n",
    "\n",
    "2) Markdown and code blocks demonstrating how one walks through the desired use case example. This should be similar to the labs we've done in class: you might want to demonstrate how to isolate a particularly interesting time period, then create an image showing a feature you're interested in, for example.\n",
    "\n",
    "3) A discussion of the results and how they might be extended on further analysis. For example, if there are data quality issues which impact the results, you could discuss how these might be mitigated with additional information/analysis.\n",
    "\n",
    "Just keep in mind, you'll have roughly 20 minutes for your full presentation, and that goes surprisingly quickly! Probably 2-3 diagnostics is the most you'll be able to get through (you could try practicing with your group members to get a sense of timing).\n"
   ]
  },
  {
   "cell_type": "markdown",
   "id": "9d07de0d-1e81-442a-a895-7b7fd7906385",
   "metadata": {},
   "source": [
    "<a id='binder'></a> \n",
    "### Create Binder Environment\n",
    "\n",
    "The last step is to create a Binder environment for your project, so that we don't have to spend time configuring everyone's environment each time we switch between group presentations. Instructions are below:\n",
    "\n",
    " - Assemble all of the data needed in your Github repo: Jupyter notebooks, a README file, and any datasets needed (these should be small, if included within the repo). Larger datasets should be stored on a separate server, and access codes included within the Jupyter notebook as discussed above. \n",
    " \n",
    " - Create an _environment_ file: this is a text file which contains information on the packages needed in order to execute your code. The filename should be \"environment.yml\": an example that you can use for the proper syntax is included in this template repo. To determine which packages to include, you'll probably want to start by displaying the packages loaded in your environment: you can use the command `conda list -n [environment_name]` to get a list.\n",
    " \n",
    " More information on environment files can be found here:\n",
    " https://docs.conda.io/projects/conda/en/latest/user-guide/tasks/manage-environments.html#\n",
    "\n",
    " - Create Binder. Use http://mybinder.org to create a  URL for your notebook Binder (you will need to enter your GitHub repo URL). You can also add a Launch Binder button directly to your GitHub repo, by including the following in your README.md:\n",
    "\n",
    "```\n",
    "launch with myBinder\n",
    "[![Binder](https://mybinder.org/badge.svg)](https://mybinder.org/v2/gh/<path to your repo>)\n",
    "```"
   ]
  },
  {
   "cell_type": "markdown",
   "id": "c62c774b-8a7c-4f47-9c07-7f9823c48473",
   "metadata": {},
   "source": [
    "<a id='references'></a> \n",
    "### References\n",
    "\n",
    "List relevant references. Here are some additional resources on creating professional, shareable notebooks you may find useful:\n",
    "\n",
    "1. Notebook sharing guidelines from reproducible-science-curriculum: https://reproducible-science-curriculum.github.io/publication-RR-Jupyter/\n",
    "2. Guide for developing shareable notebooks by Kevin Coakley, SDSC: https://github.com/kevincoakley/sharing-jupyter-notebooks/raw/master/Jupyter-Notebooks-Sharing-Recommendations.pdf\n",
    "3. Guide for sharing notebooks by Andrea Zonca, SDSC: https://zonca.dev/2020/09/how-to-share-jupyter-notebooks.html\n",
    "4. Jupyter Notebook Best Practices: https://towardsdatascience.com/jupyter-notebook-best-practices-f430a6ba8c69\n",
    "5. Introduction to Jupyter templates nbextension: https://towardsdatascience.com/stop-copy-pasting-notebooks-embrace-jupyter-templates-6bd7b6c00b94  \n",
    "    5.1. Table of Contents (Toc2) readthedocs: https://jupyter-contrib-nbextensions.readthedocs.io/en/latest/nbextensions/toc2/README.html  \n",
    "    5.2. Steps to install toc2: https://stackoverflow.com/questions/23435723/installing-ipython-notebook-table-of-contents\n",
    "6. Rule A, Birmingham A, Zuniga C, Altintas I, Huang SC, et al. (2019) Ten simple rules for writing and sharing computational analyses in Jupyter Notebooks. PLOS Computational Biology 15(7): e1007007. https://doi.org/10.1371/journal.pcbi.1007007. Supplementary materials: example notebooks (https://github.com/jupyter-guide/ten-rules-jupyter) and tutorial (https://github.com/ISMB-ECCB-2019-Tutorial-AM4/reproducible-computational-workflows)\n",
    "7. Languages supported by Jupyter kernels: https://github.com/jupyter/jupyter/wiki/Jupyter-kernels\n",
    "8. EarthCube notebooks presented at EC Annual Meeting 2020: https://www.earthcube.org/notebooks\n",
    "9. Manage your Python Virtual Environment with Conda: https://towardsdatascience.com/manage-your-python-virtual-environment-with-conda-a0d2934d5195\n",
    "10. Venv - Creation of Virtual Environments: https://docs.python.org/3/library/venv.html"
   ]
  },
  {
   "cell_type": "code",
   "execution_count": null,
   "id": "e9f10df5-100c-4f4a-a1c3-bd417b524a61",
   "metadata": {},
   "outputs": [],
   "source": []
  }
 ],
 "metadata": {
  "kernelspec": {
   "display_name": "Python 3.8.15 ('gee_env')",
   "language": "python",
   "name": "python3"
  },
  "language_info": {
   "codemirror_mode": {
    "name": "ipython",
    "version": 3
   },
   "file_extension": ".py",
   "mimetype": "text/x-python",
   "name": "python",
   "nbconvert_exporter": "python",
   "pygments_lexer": "ipython3",
   "version": "3.8.15"
  },
  "vscode": {
   "interpreter": {
    "hash": "9afea493c567db28a9cf73e819ff47e3339fc57c6ae27fd4e3c575258d5b55f7"
   }
  }
 },
 "nbformat": 4,
 "nbformat_minor": 5
}

{
 "cells": [
  {
   "cell_type": "code",
   "execution_count": 1,
   "id": "5d4f8ee7-5bb5-42b5-9396-6578f998b6a6",
   "metadata": {},
   "outputs": [],
   "source": [
    "# Import packages\n",
    "import ee\n",
    "import geemap\n",
    "import pandas as pd\n",
    "import matplotlib.pyplot as plt\n",
    "import numpy as np\n",
    "import os"
   ]
  },
  {
   "cell_type": "code",
   "execution_count": 2,
   "id": "87ca4081-ef44-44a6-8bec-688be8467f41",
   "metadata": {},
   "outputs": [],
   "source": [
    "# Initialize google earth engine \n",
    "ee.Initialize()"
   ]
  },
  {
   "cell_type": "code",
   "execution_count": 3,
   "id": "e93293a3-f240-4fa7-b7c2-c1a5ed15b565",
   "metadata": {},
   "outputs": [],
   "source": [
    "# read in the data on fishing hours from google earth engine\n",
    "fishing_hours = ee.ImageCollection('GFW/GFF/V1/fishing_hours')\n",
    "# read in data on total vessel hours from google earth engine\n",
    "vessel_hours = ee.ImageCollection('GFW/GFF/V1/vessel_hours')"
   ]
  },
  {
   "cell_type": "code",
   "execution_count": 4,
   "id": "80176000-3b8e-4057-871d-7bfe22df65d4",
   "metadata": {},
   "outputs": [],
   "source": [
    "# Set viz parameters\n",
    " \n",
    "trawlersVis = {\n",
    "  'min': 0.0,\n",
    "  'max': 5.0,\n",
    "  'palette': ['0d0887', '3d049b', '6903a5', '8d0fa1', 'ae2891', 'cb4679', 'df6363',\n",
    "  'f0844c', 'faa638', 'fbcc27', 'f0f921']\n",
    "}"
   ]
  },
  {
   "cell_type": "code",
   "execution_count": 5,
   "id": "12364de8-f194-44e5-b368-bc3001fa0e71",
   "metadata": {},
   "outputs": [],
   "source": [
    "\n",
    "# Define area of interest off the coast of Peru.\n",
    "roi = ee.Geometry.Polygon([[-84.997101, -12.93982],\n",
    "      [-84.997101, -3.79797],\n",
    "      [-76.295929, -3.79797],\n",
    "      [-76.295929, -12.93982],\n",
    "      [-84.997101, -12.93982]], None, False)\n"
   ]
  },
  {
   "cell_type": "code",
   "execution_count": 6,
   "id": "0ba761ae-3d66-4943-b46d-c5783f82632b",
   "metadata": {},
   "outputs": [],
   "source": [
    "\n",
    "# Filter by \"WLD\" to get all global fishing vessel hours rasters in 2016\n",
    "effort = fishing_hours.filterMetadata('country', 'equals', 'WLD').filterDate('2013-01-01','2016-01-01');\n"
   ]
  },
  {
   "cell_type": "code",
   "execution_count": 75,
   "id": "d6808420-0349-433a-b4bf-4cc96c552952",
   "metadata": {},
   "outputs": [],
   "source": [
    "# monthly sum of fishing effort\n",
    "def monthly_Sum (collection, years, months):\n",
    "  effort_sum = []\n",
    "  for year in years:\n",
    "    for month in months:\n",
    "      Monthly_sum = collection.filter(ee.Filter.calendarRange(year, year, 'year')) \\\n",
    "                              .filter(ee.Filter.calendarRange(month, month, 'month')) \\\n",
    "                              .sum() \\\n",
    "                              .reduce(ee.Reducer.sum()) \\\n",
    "                              .set('system:time_start',{'month': month, 'year': year})\n",
    "      effort_sum.append (Monthly_sum)\n",
    "  return ee.ImageCollection.fromImages(effort_sum)\n",
    "\n",
    "# list of images\n",
    "def monthly_images (collection, years, months):\n",
    "  effort_images = []\n",
    "  for year in years:\n",
    "    for month in months:\n",
    "      Monthly_sum = collection.filter(ee.Filter.calendarRange(year, year, 'year')) \\\n",
    "                              .filter(ee.Filter.calendarRange(month, month, 'month')) \\\n",
    "                              .sum() \\\n",
    "                              .reduce(ee.Reducer.sum()) \\\n",
    "                              .set({'month': month, 'year': year})\n",
    "      effort_images.append (Monthly_sum)\n",
    "  return effort_images\n",
    "\n"
   ]
  },
  {
   "cell_type": "code",
   "execution_count": 76,
   "id": "a25ae638-6df0-4442-8235-23289d3d4d8c",
   "metadata": {},
   "outputs": [],
   "source": [
    "years = range(2013, 2017)\n",
    "months = range(1, 13)"
   ]
  },
  {
   "cell_type": "code",
   "execution_count": 77,
   "id": "630809fa-0e4b-44e5-8640-ed05e76a5969",
   "metadata": {},
   "outputs": [
    {
     "ename": "EEException",
     "evalue": "Image.reduce: Unable to reduce an image with 0 bands.",
     "output_type": "error",
     "traceback": [
      "\u001b[0;31m---------------------------------------------------------------------------\u001b[0m",
      "\u001b[0;31mHttpError\u001b[0m                                 Traceback (most recent call last)",
      "File \u001b[0;32m/opt/python/3.10.5/lib/python3.10/site-packages/ee/data.py:328\u001b[0m, in \u001b[0;36m_execute_cloud_call\u001b[0;34m(call, num_retries)\u001b[0m\n\u001b[1;32m    327\u001b[0m \u001b[38;5;28;01mtry\u001b[39;00m:\n\u001b[0;32m--> 328\u001b[0m   \u001b[38;5;28;01mreturn\u001b[39;00m \u001b[43mcall\u001b[49m\u001b[38;5;241;43m.\u001b[39;49m\u001b[43mexecute\u001b[49m\u001b[43m(\u001b[49m\u001b[43mnum_retries\u001b[49m\u001b[38;5;241;43m=\u001b[39;49m\u001b[43mnum_retries\u001b[49m\u001b[43m)\u001b[49m\n\u001b[1;32m    329\u001b[0m \u001b[38;5;28;01mexcept\u001b[39;00m googleapiclient\u001b[38;5;241m.\u001b[39merrors\u001b[38;5;241m.\u001b[39mHttpError \u001b[38;5;28;01mas\u001b[39;00m e:\n",
      "File \u001b[0;32m/opt/python/3.10.5/lib/python3.10/site-packages/googleapiclient/_helpers.py:134\u001b[0m, in \u001b[0;36mpositional.<locals>.positional_decorator.<locals>.positional_wrapper\u001b[0;34m(*args, **kwargs)\u001b[0m\n\u001b[1;32m    133\u001b[0m         logger\u001b[38;5;241m.\u001b[39mwarning(message)\n\u001b[0;32m--> 134\u001b[0m \u001b[38;5;28;01mreturn\u001b[39;00m \u001b[43mwrapped\u001b[49m\u001b[43m(\u001b[49m\u001b[38;5;241;43m*\u001b[39;49m\u001b[43margs\u001b[49m\u001b[43m,\u001b[49m\u001b[43m \u001b[49m\u001b[38;5;241;43m*\u001b[39;49m\u001b[38;5;241;43m*\u001b[39;49m\u001b[43mkwargs\u001b[49m\u001b[43m)\u001b[49m\n",
      "File \u001b[0;32m/opt/python/3.10.5/lib/python3.10/site-packages/googleapiclient/http.py:915\u001b[0m, in \u001b[0;36mHttpRequest.execute\u001b[0;34m(self, http, num_retries)\u001b[0m\n\u001b[1;32m    914\u001b[0m \u001b[38;5;28;01mif\u001b[39;00m resp\u001b[38;5;241m.\u001b[39mstatus \u001b[38;5;241m>\u001b[39m\u001b[38;5;241m=\u001b[39m \u001b[38;5;241m300\u001b[39m:\n\u001b[0;32m--> 915\u001b[0m     \u001b[38;5;28;01mraise\u001b[39;00m HttpError(resp, content, uri\u001b[38;5;241m=\u001b[39m\u001b[38;5;28mself\u001b[39m\u001b[38;5;241m.\u001b[39muri)\n\u001b[1;32m    916\u001b[0m \u001b[38;5;28;01mreturn\u001b[39;00m \u001b[38;5;28mself\u001b[39m\u001b[38;5;241m.\u001b[39mpostproc(resp, content)\n",
      "\u001b[0;31mHttpError\u001b[0m: <HttpError 400 when requesting https://earthengine.googleapis.com/v1alpha/projects/earthengine-legacy/value:compute?prettyPrint=false&alt=json returned \"Image.reduce: Unable to reduce an image with 0 bands.\". Details: \"Image.reduce: Unable to reduce an image with 0 bands.\">",
      "\nDuring handling of the above exception, another exception occurred:\n",
      "\u001b[0;31mEEException\u001b[0m                               Traceback (most recent call last)",
      "Input \u001b[0;32mIn [77]\u001b[0m, in \u001b[0;36m<cell line: 5>\u001b[0;34m()\u001b[0m\n\u001b[1;32m      1\u001b[0m effort_collection \u001b[38;5;241m=\u001b[39m monthly_Sum(purse_seines, years, months)\n\u001b[1;32m      3\u001b[0m effort_list \u001b[38;5;241m=\u001b[39m monthly_images(purse_seines, years, months)\n\u001b[0;32m----> 5\u001b[0m \u001b[43meffort_collection\u001b[49m\u001b[38;5;241;43m.\u001b[39;49m\u001b[43mfirst\u001b[49m\u001b[43m(\u001b[49m\u001b[43m)\u001b[49m\u001b[38;5;241;43m.\u001b[39;49m\u001b[43mgetInfo\u001b[49m\u001b[43m(\u001b[49m\u001b[43m)\u001b[49m\n\u001b[1;32m      7\u001b[0m \u001b[38;5;28mlen\u001b[39m(effort_list)\n",
      "File \u001b[0;32m/opt/python/3.10.5/lib/python3.10/site-packages/ee/image.py:117\u001b[0m, in \u001b[0;36mImage.getInfo\u001b[0;34m(self)\u001b[0m\n\u001b[1;32m    109\u001b[0m \u001b[38;5;28;01mdef\u001b[39;00m \u001b[38;5;21mgetInfo\u001b[39m(\u001b[38;5;28mself\u001b[39m):\n\u001b[1;32m    110\u001b[0m   \u001b[38;5;124;03m\"\"\"Fetch and return information about this image.\u001b[39;00m\n\u001b[1;32m    111\u001b[0m \n\u001b[1;32m    112\u001b[0m \u001b[38;5;124;03m  Returns:\u001b[39;00m\n\u001b[0;32m   (...)\u001b[0m\n\u001b[1;32m    115\u001b[0m \u001b[38;5;124;03m        properties - Dictionary containing the image's metadata properties.\u001b[39;00m\n\u001b[1;32m    116\u001b[0m \u001b[38;5;124;03m  \"\"\"\u001b[39;00m\n\u001b[0;32m--> 117\u001b[0m   \u001b[38;5;28;01mreturn\u001b[39;00m \u001b[38;5;28;43msuper\u001b[39;49m\u001b[43m(\u001b[49m\u001b[43mImage\u001b[49m\u001b[43m,\u001b[49m\u001b[43m \u001b[49m\u001b[38;5;28;43mself\u001b[39;49m\u001b[43m)\u001b[49m\u001b[38;5;241;43m.\u001b[39;49m\u001b[43mgetInfo\u001b[49m\u001b[43m(\u001b[49m\u001b[43m)\u001b[49m\n",
      "File \u001b[0;32m/opt/python/3.10.5/lib/python3.10/site-packages/ee/computedobject.py:98\u001b[0m, in \u001b[0;36mComputedObject.getInfo\u001b[0;34m(self)\u001b[0m\n\u001b[1;32m     92\u001b[0m \u001b[38;5;28;01mdef\u001b[39;00m \u001b[38;5;21mgetInfo\u001b[39m(\u001b[38;5;28mself\u001b[39m):\n\u001b[1;32m     93\u001b[0m   \u001b[38;5;124;03m\"\"\"Fetch and return information about this object.\u001b[39;00m\n\u001b[1;32m     94\u001b[0m \n\u001b[1;32m     95\u001b[0m \u001b[38;5;124;03m  Returns:\u001b[39;00m\n\u001b[1;32m     96\u001b[0m \u001b[38;5;124;03m    The object can evaluate to anything.\u001b[39;00m\n\u001b[1;32m     97\u001b[0m \u001b[38;5;124;03m  \"\"\"\u001b[39;00m\n\u001b[0;32m---> 98\u001b[0m   \u001b[38;5;28;01mreturn\u001b[39;00m \u001b[43mdata\u001b[49m\u001b[38;5;241;43m.\u001b[39;49m\u001b[43mcomputeValue\u001b[49m\u001b[43m(\u001b[49m\u001b[38;5;28;43mself\u001b[39;49m\u001b[43m)\u001b[49m\n",
      "File \u001b[0;32m/opt/python/3.10.5/lib/python3.10/site-packages/ee/data.py:738\u001b[0m, in \u001b[0;36mcomputeValue\u001b[0;34m(obj)\u001b[0m\n\u001b[1;32m    735\u001b[0m \u001b[38;5;28;01mif\u001b[39;00m workload_tag:\n\u001b[1;32m    736\u001b[0m   body[\u001b[38;5;124m'\u001b[39m\u001b[38;5;124mworkloadTag\u001b[39m\u001b[38;5;124m'\u001b[39m] \u001b[38;5;241m=\u001b[39m workload_tag\n\u001b[0;32m--> 738\u001b[0m \u001b[38;5;28;01mreturn\u001b[39;00m \u001b[43m_execute_cloud_call\u001b[49m\u001b[43m(\u001b[49m\n\u001b[1;32m    739\u001b[0m \u001b[43m    \u001b[49m\u001b[43m_get_cloud_api_resource\u001b[49m\u001b[43m(\u001b[49m\u001b[43m)\u001b[49m\u001b[38;5;241;43m.\u001b[39;49m\u001b[43mprojects\u001b[49m\u001b[43m(\u001b[49m\u001b[43m)\u001b[49m\u001b[38;5;241;43m.\u001b[39;49m\u001b[43mvalue\u001b[49m\u001b[43m(\u001b[49m\u001b[43m)\u001b[49m\u001b[38;5;241;43m.\u001b[39;49m\u001b[43mcompute\u001b[49m\u001b[43m(\u001b[49m\n\u001b[1;32m    740\u001b[0m \u001b[43m        \u001b[49m\u001b[43mbody\u001b[49m\u001b[38;5;241;43m=\u001b[39;49m\u001b[43mbody\u001b[49m\u001b[43m,\u001b[49m\n\u001b[1;32m    741\u001b[0m \u001b[43m        \u001b[49m\u001b[43mproject\u001b[49m\u001b[38;5;241;43m=\u001b[39;49m\u001b[43m_get_projects_path\u001b[49m\u001b[43m(\u001b[49m\u001b[43m)\u001b[49m\u001b[43m,\u001b[49m\n\u001b[1;32m    742\u001b[0m \u001b[43m        \u001b[49m\u001b[43mprettyPrint\u001b[49m\u001b[38;5;241;43m=\u001b[39;49m\u001b[38;5;28;43;01mFalse\u001b[39;49;00m\u001b[43m)\u001b[49m\u001b[43m)\u001b[49m[\u001b[38;5;124m'\u001b[39m\u001b[38;5;124mresult\u001b[39m\u001b[38;5;124m'\u001b[39m]\n",
      "File \u001b[0;32m/opt/python/3.10.5/lib/python3.10/site-packages/ee/data.py:330\u001b[0m, in \u001b[0;36m_execute_cloud_call\u001b[0;34m(call, num_retries)\u001b[0m\n\u001b[1;32m    328\u001b[0m   \u001b[38;5;28;01mreturn\u001b[39;00m call\u001b[38;5;241m.\u001b[39mexecute(num_retries\u001b[38;5;241m=\u001b[39mnum_retries)\n\u001b[1;32m    329\u001b[0m \u001b[38;5;28;01mexcept\u001b[39;00m googleapiclient\u001b[38;5;241m.\u001b[39merrors\u001b[38;5;241m.\u001b[39mHttpError \u001b[38;5;28;01mas\u001b[39;00m e:\n\u001b[0;32m--> 330\u001b[0m   \u001b[38;5;28;01mraise\u001b[39;00m _translate_cloud_exception(e)\n",
      "\u001b[0;31mEEException\u001b[0m: Image.reduce: Unable to reduce an image with 0 bands."
     ]
    }
   ],
   "source": [
    "effort_collection = monthly_Sum(purse_seines, years, months)\n",
    "\n",
    "effort_list = monthly_images(purse_seines, years, months)\n",
    "\n",
    "effort_collection.first().getInfo()\n",
    "\n",
    "len(effort_list)"
   ]
  },
  {
   "cell_type": "code",
   "execution_count": 9,
   "id": "8dc20bcc-38c7-4687-9174-fee88a63cd33",
   "metadata": {},
   "outputs": [
    {
     "data": {
      "text/plain": [
       "<ee.image.Image at 0x7f60572acbe0>"
      ]
     },
     "execution_count": 9,
     "metadata": {},
     "output_type": "execute_result"
    }
   ],
   "source": [
    "effort_2013 = purse_seines.filter(ee.Filter.calendarRange(2013, 2013, 'year')).sum()\n",
    "effort_2013 = effort_2013.reduce(ee.Reducer.sum())\n",
    "effort_2013_mask = effort_2013.mask(effort_2013.gt(0)).clip(roi)\n",
    "effort_2013_mask\n"
   ]
  },
  {
   "cell_type": "code",
   "execution_count": 10,
   "id": "b5c78682-b144-4726-82fb-8e2ad2062c8e",
   "metadata": {},
   "outputs": [
    {
     "data": {
      "text/plain": [
       "<ee.image.Image at 0x7f60572ad5d0>"
      ]
     },
     "execution_count": 10,
     "metadata": {},
     "output_type": "execute_result"
    }
   ],
   "source": [
    "effort_2014 = purse_seines.filter(ee.Filter.calendarRange(2014, 2014, 'year')).sum()\n",
    "effort_2014 = effort_2014.reduce(ee.Reducer.sum())\n",
    "effort_2014_mask = effort_2014.mask(effort_2014.gt(0)).clip(roi)\n",
    "effort_2014_mask"
   ]
  },
  {
   "cell_type": "code",
   "execution_count": 11,
   "id": "545fc6fa-d7c9-477a-90ea-223ba666942e",
   "metadata": {},
   "outputs": [
    {
     "data": {
      "text/plain": [
       "<ee.image.Image at 0x7f60572adc00>"
      ]
     },
     "execution_count": 11,
     "metadata": {},
     "output_type": "execute_result"
    }
   ],
   "source": [
    "effort_2015 = purse_seines.filter(ee.Filter.calendarRange(2015, 2015, 'year')).sum()\n",
    "effort_2015 = effort_2015.reduce(ee.Reducer.sum())\n",
    "effort_2015_mask = effort_2015.mask(effort_2015.gt(0)).clip(roi)\n",
    "effort_2015_mask"
   ]
  },
  {
   "cell_type": "code",
   "execution_count": 12,
   "id": "0e79f35f-502e-41b2-b6f6-13c4caa5f32a",
   "metadata": {},
   "outputs": [
    {
     "data": {
      "text/plain": [
       "<ee.image.Image at 0x7f60572ac850>"
      ]
     },
     "execution_count": 12,
     "metadata": {},
     "output_type": "execute_result"
    }
   ],
   "source": [
    "effort_2016 = purse_seines.filter(ee.Filter.calendarRange(2016, 2016, 'year')).sum()\n",
    "effort_2016 = effort_2016.reduce(ee.Reducer.sum())\n",
    "effort_2016_mask = effort_2016.mask(effort_2016.gt(0)).clip(roi)\n",
    "effort_2016_mask"
   ]
  },
  {
   "cell_type": "code",
   "execution_count": 45,
   "id": "73c9e40e-58dd-4c25-916b-5425428c5d95",
   "metadata": {},
   "outputs": [
    {
     "data": {
      "text/plain": [
       "<ee.image.Image at 0x7f6b869270d0>"
      ]
     },
     "execution_count": 45,
     "metadata": {},
     "output_type": "execute_result"
    }
   ],
   "source": []
  },
  {
   "cell_type": "code",
   "execution_count": 13,
   "id": "45639559-e5ca-4df1-92eb-54e9d146d368",
   "metadata": {},
   "outputs": [],
   "source": [
    "#effort_collection = ee.ImageCollection.fromImages([effort_2013_mask, effort_2014_mask, effort_2015_mask, effort_2016_mask])"
   ]
  },
  {
   "cell_type": "code",
   "execution_count": 65,
   "id": "87b064ed-1bbc-4483-8989-aaa285d21ea0",
   "metadata": {},
   "outputs": [],
   "source": [
    "videoArgs = {\n",
    "    'dimensions': 768,\n",
    "    'region': roi,\n",
    "    'framesPerSecond': 5,\n",
    "    'crs': 'EPSG:3857',\n",
    "    'min': 0.0,\n",
    "    'max': 3.5,\n",
    "    'palette': ['0d0887', '3d049b', '6903a5', '8d0fa1', 'ae2891', 'cb4679', 'df6363',\n",
    "  'f0844c', 'faa638', 'fbcc27', 'f0f921']\n",
    "}"
   ]
  },
  {
   "cell_type": "code",
   "execution_count": 73,
   "id": "5b9da618-24d6-4f84-a598-fc44f4406100",
   "metadata": {},
   "outputs": [
    {
     "name": "stdout",
     "output_type": "stream",
     "text": [
      "Generating URL...\n",
      "Expected a homogeneous image collection, but an image with incompatible bands was encountered:\n",
      "  First image type: 3 bands ([vis-red, vis-green, vis-blue]).\n",
      "Current image type: 1 bands ([vis-gray]).\n",
      "          Image ID: 36\n",
      "Some bands might require explicit casts.\n"
     ]
    }
   ],
   "source": [
    "saved_gif = os.path.join(os.path.expanduser('~'), 'eds-220/homework-2-mangrove-team/test2.gif')\n",
    "geemap.download_ee_video(effort_collection, videoArgs, saved_gif)"
   ]
  },
  {
   "cell_type": "code",
   "execution_count": 56,
   "id": "85edce6b-9913-4c9e-aef7-3873ffd42aa0",
   "metadata": {},
   "outputs": [
    {
     "data": {
      "application/vnd.jupyter.widget-view+json": {
       "model_id": "f2b861c9673c4c068216da7b249d658c",
       "version_major": 2,
       "version_minor": 0
      },
      "text/plain": [
       "Output()"
      ]
     },
     "metadata": {},
     "output_type": "display_data"
    }
   ],
   "source": [
    "geemap.show_image(saved_gif)"
   ]
  },
  {
   "cell_type": "code",
   "execution_count": 58,
   "id": "2a05f57f-78ee-400f-ad9c-0c52a13137be",
   "metadata": {},
   "outputs": [],
   "source": [
    "date_list = []\n",
    "\n",
    "for i in effort_list:\n",
    "    date = ee.Date(i.get(\"system:time_start\")).format(\"UTC\")\n",
    "    date_list.append(date)\n",
    "    "
   ]
  },
  {
   "cell_type": "code",
   "execution_count": 38,
   "id": "4e2bc069-18ef-451e-957a-0446a4698246",
   "metadata": {},
   "outputs": [
    {
     "name": "stdout",
     "output_type": "stream",
     "text": [
      "[<ee.ee_string.String object at 0x7f9c5e81b3d0>, <ee.ee_string.String object at 0x7f9c5c1bb100>, <ee.ee_string.String object at 0x7f9c5c1c4370>, <ee.ee_string.String object at 0x7f9c5e7cd270>, <ee.ee_string.String object at 0x7f9c5e7cc670>, <ee.ee_string.String object at 0x7f9c5e7cf970>, <ee.ee_string.String object at 0x7f9c5e7cf4f0>, <ee.ee_string.String object at 0x7f9c5e724d00>, <ee.ee_string.String object at 0x7f9c5c0950f0>, <ee.ee_string.String object at 0x7f9c5c0d0070>, <ee.ee_string.String object at 0x7f9c5e7c4130>, <ee.ee_string.String object at 0x7f9c5e7c4d00>, <ee.ee_string.String object at 0x7f9c5e7c4e50>, <ee.ee_string.String object at 0x7f9c5e7c4700>, <ee.ee_string.String object at 0x7f9c5e7c56f0>, <ee.ee_string.String object at 0x7f9c5e7c45b0>, <ee.ee_string.String object at 0x7f9c5e7c4e20>, <ee.ee_string.String object at 0x7f9c5e7c53f0>, <ee.ee_string.String object at 0x7f9c5e7c5d50>, <ee.ee_string.String object at 0x7f9c5e7c5960>, <ee.ee_string.String object at 0x7f9c5e7c57e0>, <ee.ee_string.String object at 0x7f9c5c186350>, <ee.ee_string.String object at 0x7f9c5c1876a0>, <ee.ee_string.String object at 0x7f9c5e739690>, <ee.ee_string.String object at 0x7f9c5e7d23e0>, <ee.ee_string.String object at 0x7f9c5e7d3b50>, <ee.ee_string.String object at 0x7f9c5e7d3c70>, <ee.ee_string.String object at 0x7f9c5e7d27d0>, <ee.ee_string.String object at 0x7f9c5e7d34f0>, <ee.ee_string.String object at 0x7f9c5e7d33a0>, <ee.ee_string.String object at 0x7f9c5e7d39a0>, <ee.ee_string.String object at 0x7f9c5c3f1c90>, <ee.ee_string.String object at 0x7f9c5c3f1a80>]\n"
     ]
    },
    {
     "data": {
      "text/plain": [
       "33"
      ]
     },
     "execution_count": 38,
     "metadata": {},
     "output_type": "execute_result"
    }
   ],
   "source": [
    "print(date_list)\n",
    "\n",
    "len(effort_list)"
   ]
  },
  {
   "cell_type": "code",
   "execution_count": 24,
   "id": "3e8aac58-ec82-48ce-8d0c-0b7f89927f88",
   "metadata": {},
   "outputs": [],
   "source": [
    "out_gif = os.path.join(os.path.expanduser('~'), 'eds-220/homework-2-mangrove-team/test-label.gif')"
   ]
  },
  {
   "cell_type": "code",
   "execution_count": 59,
   "id": "481b3386-85d3-4d7d-95d9-7497e91983a7",
   "metadata": {},
   "outputs": [],
   "source": [
    "geemap.add_text_to_gif(\n",
    "    saved_gif,\n",
    "    out_gif,\n",
    "    xy=('3%', '5%'),\n",
    "    text_sequence=date_list,\n",
    "    font_size=30,\n",
    "    font_color='#ffffff',\n",
    ")"
   ]
  },
  {
   "cell_type": "code",
   "execution_count": 60,
   "id": "dbb76e82-3498-4948-ab8e-988055d9d9d3",
   "metadata": {},
   "outputs": [
    {
     "data": {
      "application/vnd.jupyter.widget-view+json": {
       "model_id": "bafa5228bd464291860c7043dd7d2147",
       "version_major": 2,
       "version_minor": 0
      },
      "text/plain": [
       "Output()"
      ]
     },
     "metadata": {},
     "output_type": "display_data"
    }
   ],
   "source": [
    "geemap.show_image(out_gif)"
   ]
  }
 ],
 "metadata": {
  "kernelspec": {
   "display_name": "Python 3 (ipykernel)",
   "language": "python",
   "name": "python3"
  },
  "language_info": {
   "codemirror_mode": {
    "name": "ipython",
    "version": 3
   },
   "file_extension": ".py",
   "mimetype": "text/x-python",
   "name": "python",
   "nbconvert_exporter": "python",
   "pygments_lexer": "ipython3",
   "version": "3.10.5"
  }
 },
 "nbformat": 4,
 "nbformat_minor": 5
}

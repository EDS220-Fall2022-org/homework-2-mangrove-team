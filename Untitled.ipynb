{
 "cells": [
  {
   "cell_type": "code",
   "execution_count": 1,
   "id": "eb05660c-c661-4617-ab6a-2ae87a11c089",
   "metadata": {},
   "outputs": [],
   "source": [
    "import geemap \n",
    "import ee"
   ]
  },
  {
   "cell_type": "code",
   "execution_count": 2,
   "id": "645284e9-204b-456e-833f-70fdc99964a1",
   "metadata": {},
   "outputs": [],
   "source": [
    "ee.Initialize()"
   ]
  },
  {
   "cell_type": "code",
   "execution_count": 6,
   "id": "d0f05df1-bea8-48b2-85ea-349598ee5902",
   "metadata": {},
   "outputs": [
    {
     "data": {
      "text/plain": [
       "<ee.imagecollection.ImageCollection at 0x7f4d63a43f40>"
      ]
     },
     "execution_count": 6,
     "metadata": {},
     "output_type": "execute_result"
    }
   ],
   "source": [
    "ee.ImageCollection(\"LANDSAT/MANGROVE_FORESTS\") "
   ]
  },
  {
   "cell_type": "code",
   "execution_count": 12,
   "id": "6f2a2f8b-5543-4676-8c48-2aa6c510b4d7",
   "metadata": {},
   "outputs": [
    {
     "data": {
      "application/vnd.jupyter.widget-view+json": {
       "model_id": "56b488adcc7c4e4683e1bf46d7ec2b4f",
       "version_major": 2,
       "version_minor": 0
      },
      "text/plain": [
       "Map(center=[20, 0], controls=(WidgetControl(options=['position', 'transparent_bg'], widget=HBox(children=(Togg…"
      ]
     },
     "execution_count": 12,
     "metadata": {},
     "output_type": "execute_result"
    }
   ],
   "source": [
    "Map = geemap.Map()\n",
    "\n",
    "Map"
   ]
  },
  {
   "cell_type": "code",
   "execution_count": 15,
   "id": "71ba519c-66b4-4a0c-b68a-0deff071b394",
   "metadata": {},
   "outputs": [],
   "source": [
    "dataset = ee.ImageCollection('LANDSAT/MANGROVE_FORESTS')\n",
    "mangrovesVis = {\n",
    "  'min': 0,\n",
    "  'max': 1.0,\n",
    "  'palette': ['d40115']\n",
    "}\n",
    "Map.setCenter(-87.84, 20.92, 9);\n",
    "Map.addLayer(dataset, mangrovesVis, 'Mangroves')"
   ]
  },
  {
   "cell_type": "code",
   "execution_count": 11,
   "id": "1a81ca73-856a-4b8e-bae4-accef79f6973",
   "metadata": {},
   "outputs": [
    {
     "data": {
      "application/vnd.jupyter.widget-view+json": {
       "model_id": "1daac55c3afd4da196530bdefc55d6bf",
       "version_major": 2,
       "version_minor": 0
      },
      "text/plain": [
       "Map(bottom=131372.0, center=[9, [20.92, -87.84]], controls=(WidgetControl(options=['position', 'transparent_bg…"
      ]
     },
     "execution_count": 11,
     "metadata": {},
     "output_type": "execute_result"
    }
   ],
   "source": [
    "dataset = ee.ImageCollection('LANDSAT/MANGROVE_FORESTS')\n",
    "mangrovesVis = {\n",
    "  'min': 0,\n",
    "  'max': 1.0,\n",
    "  'palette': ['d40115']\n",
    "}\n",
    "Map.setCenter([20.92, -87.84], 9)\n",
    "Map.addLayer(dataset, mangrovesVis, 'Mangroves')\n",
    "\n",
    "Map"
   ]
  }
 ],
 "metadata": {
  "kernelspec": {
   "display_name": "Python 3 (ipykernel)",
   "language": "python",
   "name": "python3"
  },
  "language_info": {
   "codemirror_mode": {
    "name": "ipython",
    "version": 3
   },
   "file_extension": ".py",
   "mimetype": "text/x-python",
   "name": "python",
   "nbconvert_exporter": "python",
   "pygments_lexer": "ipython3",
   "version": "3.10.5"
  }
 },
 "nbformat": 4,
 "nbformat_minor": 5
}

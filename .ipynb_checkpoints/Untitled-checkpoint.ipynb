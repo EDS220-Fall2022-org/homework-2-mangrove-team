{
 "cells": [
  {
   "cell_type": "code",
   "execution_count": 3,
   "id": "eb05660c-c661-4617-ab6a-2ae87a11c089",
   "metadata": {},
   "outputs": [],
   "source": [
    "import geemap \n",
    "import ee"
   ]
  },
  {
   "cell_type": "code",
   "execution_count": 5,
   "id": "645284e9-204b-456e-833f-70fdc99964a1",
   "metadata": {},
   "outputs": [],
   "source": [
    "ee.Initialize()"
   ]
  },
  {
   "cell_type": "code",
   "execution_count": 6,
   "id": "d0f05df1-bea8-48b2-85ea-349598ee5902",
   "metadata": {},
   "outputs": [
    {
     "data": {
      "text/plain": [
       "<ee.imagecollection.ImageCollection at 0x7f4d63a43f40>"
      ]
     },
     "execution_count": 6,
     "metadata": {},
     "output_type": "execute_result"
    }
   ],
   "source": [
    "ee.ImageCollection(\"LANDSAT/MANGROVE_FORESTS\") "
   ]
  },
  {
   "cell_type": "code",
   "execution_count": 19,
   "id": "6f2a2f8b-5543-4676-8c48-2aa6c510b4d7",
   "metadata": {},
   "outputs": [],
   "source": [
    "Map = geemap.Map()"
   ]
  },
  {
   "cell_type": "code",
   "execution_count": 21,
   "id": "1a81ca73-856a-4b8e-bae4-accef79f6973",
   "metadata": {},
   "outputs": [
    {
     "data": {
      "application/vnd.jupyter.widget-view+json": {
       "model_id": "e9c631fd2d7743089bbf0c00db88b642",
       "version_major": 2,
       "version_minor": 0
      },
      "text/plain": [
       "Map(bottom=131372.0, center=[-87.84, 20.92], controls=(WidgetControl(options=['position', 'transparent_bg'], w…"
      ]
     },
     "execution_count": 21,
     "metadata": {},
     "output_type": "execute_result"
    }
   ],
   "source": [
    "dataset = ee.ImageCollection('LANDSAT/MANGROVE_FORESTS');\n",
    "mangrovesVis = {\n",
    "  min: 0,\n",
    "  max: 1.0,\n",
    "  'palette': ['d40115']\n",
    "}\n",
    "Map.setCenter(20.92, -87.84, 9)\n",
    "Map.addLayer(dataset, mangrovesVis, 'Mangroves')\n",
    "\n",
    "Map"
   ]
  }
 ],
 "metadata": {
  "kernelspec": {
   "display_name": "Python 3 (ipykernel)",
   "language": "python",
   "name": "python3"
  },
  "language_info": {
   "codemirror_mode": {
    "name": "ipython",
    "version": 3
   },
   "file_extension": ".py",
   "mimetype": "text/x-python",
   "name": "python",
   "nbconvert_exporter": "python",
   "pygments_lexer": "ipython3",
   "version": "3.10.5"
  }
 },
 "nbformat": 4,
 "nbformat_minor": 5
}

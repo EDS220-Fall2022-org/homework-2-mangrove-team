{
 "cells": [
  {
   "cell_type": "markdown",
   "id": "1d62013d-8966-457f-b499-6e595ab65f8f",
   "metadata": {},
   "source": [
    "This notebook will be use to explore the metadata of the Fishing Global Watch of a Earth Engine Snippet (GFW/GFF/V1/fishing_hours)\n",
    "\n",
    "Metadata stands for data about data. In case of images, metadata means details about the image and its production. Some metadata is generated automatically by the capturing device. \n",
    "\n"
   ]
  },
  {
   "cell_type": "code",
   "execution_count": 4,
   "id": "8a123665-98a6-449b-8ca2-c46472aa3bd6",
   "metadata": {},
   "outputs": [],
   "source": [
    "# Import packages\n",
    "import ee\n",
    "import geemap\n",
    "import pandas as pd\n",
    "import matplotlib.pyplot as plt\n",
    "import numpy as np"
   ]
  },
  {
   "cell_type": "code",
   "execution_count": null,
   "id": "d2dd1112-fb9b-4139-9af9-547187aed6a4",
   "metadata": {},
   "outputs": [],
   "source": [
    "# Authenticate google earth engine\n",
    "#ee.Authenticate()"
   ]
  },
  {
   "cell_type": "code",
   "execution_count": 5,
   "id": "d40c231b-86df-4c1d-b92f-0e204ca83a68",
   "metadata": {},
   "outputs": [],
   "source": [
    "# Initialize google earth engine \n",
    "ee.Initialize()"
   ]
  },
  {
   "cell_type": "code",
   "execution_count": 6,
   "id": "0adb4671-2d16-411b-9731-3710b6cd595d",
   "metadata": {},
   "outputs": [],
   "source": [
    "# read in the data on fishing hours from google earth engine\n",
    "dataset = ee.ImageCollection('GFW/GFF/V1/fishing_hours')\n",
    "# read in data on total vessel hours from google earth engine\n",
    "dataset2 = ee.ImageCollection('GFW/GFF/V1/vessel_hours')"
   ]
  },
  {
   "cell_type": "code",
   "execution_count": 7,
   "id": "fd2986c1-928e-4449-9568-5b2169c31172",
   "metadata": {},
   "outputs": [
    {
     "data": {
      "text/plain": [
       "<ee.imagecollection.ImageCollection at 0x7f9be015ded0>"
      ]
     },
     "execution_count": 7,
     "metadata": {},
     "output_type": "execute_result"
    }
   ],
   "source": [
    "dataset"
   ]
  },
  {
   "cell_type": "code",
   "execution_count": 8,
   "id": "6b74e120-ab95-4826-a076-6c85dcf9f1a8",
   "metadata": {},
   "outputs": [
    {
     "data": {
      "text/plain": [
       "<ee.imagecollection.ImageCollection at 0x7f9be015e1d0>"
      ]
     },
     "execution_count": 8,
     "metadata": {},
     "output_type": "execute_result"
    }
   ],
   "source": [
    "dataset2"
   ]
  },
  {
   "cell_type": "code",
   "execution_count": 9,
   "id": "b224bd16-ed40-4ba2-8dee-df02b0063057",
   "metadata": {},
   "outputs": [
    {
     "data": {
      "text/plain": [
       "<ee.imagecollection.ImageCollection at 0x7f9be015dfc0>"
      ]
     },
     "execution_count": 9,
     "metadata": {},
     "output_type": "execute_result"
    }
   ],
   "source": [
    "# Create a filter for the dates\n",
    "elnino_data = dataset.filter(ee.Filter.date('2015-01-01', '2016-01-01'))\n",
    "elnino_data"
   ]
  },
  {
   "cell_type": "code",
   "execution_count": 10,
   "id": "d801241e-a2c8-43d2-be08-7171dce6df36",
   "metadata": {},
   "outputs": [],
   "source": [
    "u_lon = -80\n",
    "u_lat = -10\n",
    "x = ee.Geometry.Point([u_lon, u_lat])"
   ]
  },
  {
   "cell_type": "code",
   "execution_count": 11,
   "id": "f9a9d6ae-084a-4565-af79-1d9d63453f9d",
   "metadata": {},
   "outputs": [],
   "source": [
    "# See image properties with their names and values\n",
    "\n",
    "fishing_image = ee.ImageCollection('GFW/GFF/V1/fishing_hours') \\\n",
    "    .filterBounds(x) \\\n",
    "    .filter(ee.Filter.date('2015-01-01', '2015-01-10')) \\\n",
    "    .first()"
   ]
  },
  {
   "cell_type": "code",
   "execution_count": 12,
   "id": "d915d5cd-c47c-4414-ba7d-0b1d4c5e8718",
   "metadata": {},
   "outputs": [
    {
     "data": {
      "text/plain": [
       "{'IMAGE_DATE': '2015-01-01',\n",
       " 'NOMINAL_SCALE': 1113.1949079327358,\n",
       " 'country': 'ARG',\n",
       " 'system:asset_size': '0.015705 MB',\n",
       " 'system:band_names': ['drifting_longlines',\n",
       "  'fixed_gear',\n",
       "  'other_fishing',\n",
       "  'purse_seines',\n",
       "  'squid_jigger',\n",
       "  'trawlers'],\n",
       " 'system:id': 'GFW/GFF/V1/fishing_hours/ARG-20150101',\n",
       " 'system:index': 'ARG-20150101',\n",
       " 'system:time_end': '2015-01-02 00:00:00',\n",
       " 'system:time_start': '2015-01-01 00:00:00',\n",
       " 'system:version': 1518618589881092}"
      ]
     },
     "execution_count": 12,
     "metadata": {},
     "output_type": "execute_result"
    }
   ],
   "source": [
    "fishing_props = geemap.image_props(fishing_image)\n",
    "fishing_props.getInfo()\n"
   ]
  },
  {
   "cell_type": "code",
   "execution_count": 39,
   "id": "0b7033f3-4276-403e-ae9b-60127f250fa6",
   "metadata": {},
   "outputs": [
    {
     "name": "stdout",
     "output_type": "stream",
     "text": [
      "Country: ARG\n"
     ]
    }
   ],
   "source": [
    "country = fishing_props.get('country')\n",
    "print('Country:', country.getInfo())"
   ]
  },
  {
   "cell_type": "code",
   "execution_count": 14,
   "id": "bf7e9eef-a902-4411-b02c-2bbb73659f25",
   "metadata": {},
   "outputs": [
    {
     "name": "stdout",
     "output_type": "stream",
     "text": [
      "Metadata properties:  ['system:time_start', 'country', 'system:footprint', 'system:time_end', 'system:version', 'system:id', 'system:asset_size', 'system:index', 'system:bands', 'system:band_names']\n"
     ]
    }
   ],
   "source": [
    "properties = fishing_image.propertyNames()\n",
    "print('Metadata properties: ', properties.getInfo())"
   ]
  },
  {
   "cell_type": "code",
   "execution_count": 15,
   "id": "8c22e2ad-cf71-4bd1-b2cf-2e37cb017a60",
   "metadata": {},
   "outputs": [
    {
     "data": {
      "text/plain": [
       "<ee.image.Image at 0x7f9be0203c10>"
      ]
     },
     "execution_count": 15,
     "metadata": {},
     "output_type": "execute_result"
    }
   ],
   "source": [
    "def flag_totals(gee_snipet, lon, lat, flag, start_date, end_date):\n",
    "    dataset_name = ee.ImageCollection(gee_snipet)\n",
    "    area = ee.Geometry.Point([lon, lat])\n",
    "    collection = (dataset_name\n",
    "                  .filterMetadata('country', 'equals', flag)\n",
    "                  .filterDate(start_date, end_date)\n",
    "                  .filter(ee.Filter.bounds(area))\n",
    "                  .sum())\n",
    "    return ee.Image(collection)\n",
    "\n",
    "flag_totals('GFW/GFF/V1/fishing_hours',-80.5,-10.5, \"ARG\",'2016-01-01','2017-01-01')"
   ]
  },
  {
   "cell_type": "code",
   "execution_count": 38,
   "id": "a1a0d40b-8bbb-40e0-b106-7572d20a5005",
   "metadata": {},
   "outputs": [
    {
     "name": "stdout",
     "output_type": "stream",
     "text": [
      "<class 'ee.image.Image'>\n",
      "<class 'ee.image.Image'>\n"
     ]
    }
   ],
   "source": [
    "arg = flag_totals('GFW/GFF/V1/fishing_hours',-80.5,-10.5, \"ARG\",'2016-01-01','2017-01-01')\n",
    "print(type(arg))\n",
    "arg_all = arg.reduce(ee.Reducer.sum())\n",
    "print(type(arg_all))\n",
    "#print(arg_all)"
   ]
  },
  {
   "cell_type": "code",
   "execution_count": 35,
   "id": "b82c26bc-811a-4246-ba62-1314931e19e8",
   "metadata": {},
   "outputs": [
    {
     "data": {
      "text/plain": [
       "ee.image.Image"
      ]
     },
     "execution_count": 35,
     "metadata": {},
     "output_type": "execute_result"
    }
   ],
   "source": [
    "arg_drift_lines = arg.select('drifting_longlines')\n",
    "type(arg_drift_lines)\n",
    "\n",
    "#print(arg_drift_lines)"
   ]
  },
  {
   "cell_type": "code",
   "execution_count": 2,
   "id": "756f1982-37b3-4a22-8523-8e07226a41a8",
   "metadata": {},
   "outputs": [
    {
     "ename": "NameError",
     "evalue": "name 'pd' is not defined",
     "output_type": "error",
     "traceback": [
      "\u001b[0;31m---------------------------------------------------------------------------\u001b[0m",
      "\u001b[0;31mNameError\u001b[0m                                 Traceback (most recent call last)",
      "Input \u001b[0;32mIn [2]\u001b[0m, in \u001b[0;36m<cell line: 1>\u001b[0;34m()\u001b[0m\n\u001b[0;32m----> 1\u001b[0m raw \u001b[38;5;241m=\u001b[39m \u001b[43mpd\u001b[49m\u001b[38;5;241m.\u001b[39mread_csv(\u001b[38;5;124m'\u001b[39m\u001b[38;5;124mfishing-vessels-v1.csv\u001b[39m\u001b[38;5;124m'\u001b[39m)\n\u001b[1;32m      2\u001b[0m raw\u001b[38;5;241m.\u001b[39mshape\n\u001b[1;32m      4\u001b[0m raw\n",
      "\u001b[0;31mNameError\u001b[0m: name 'pd' is not defined"
     ]
    }
   ],
   "source": [
    "raw = pd.read_csv('fishing-vessels-v1.csv')\n",
    "raw.shape\n",
    "\n",
    "raw\n",
    "\n",
    "\n",
    "# Description: \n",
    "#This table includes all mmsi that are included in the fishing effort data. There is only one row for each mmsi.\n",
    "#Includes all vessels that were identified as fishing vessels by the neural network and which were not identified as non-fishing vessels by registries and manual review. \n",
    "#If an mmsi was matched to a fishing vessel on a registry, but the neural net did not classify it as a fishing vessel, it is not included on this list."
   ]
  },
  {
   "cell_type": "code",
   "execution_count": 1,
   "id": "178fe69d-3fcd-49b3-9de6-512d9e33d986",
   "metadata": {},
   "outputs": [
    {
     "ename": "NameError",
     "evalue": "name 'raw' is not defined",
     "output_type": "error",
     "traceback": [
      "\u001b[0;31m---------------------------------------------------------------------------\u001b[0m",
      "\u001b[0;31mNameError\u001b[0m                                 Traceback (most recent call last)",
      "Input \u001b[0;32mIn [1]\u001b[0m, in \u001b[0;36m<cell line: 2>\u001b[0;34m()\u001b[0m\n\u001b[1;32m      1\u001b[0m \u001b[38;5;66;03m# Check data types\u001b[39;00m\n\u001b[0;32m----> 2\u001b[0m \u001b[43mraw\u001b[49m\u001b[38;5;241m.\u001b[39mdtypes\n",
      "\u001b[0;31mNameError\u001b[0m: name 'raw' is not defined"
     ]
    }
   ],
   "source": [
    "# Check data types\n",
    "raw.dtypes"
   ]
  },
  {
   "cell_type": "code",
   "execution_count": 22,
   "id": "89bb2675-0fff-4fa2-95d6-27f58d25548e",
   "metadata": {},
   "outputs": [
    {
     "data": {
      "text/plain": [
       "mmsi            0\n",
       "flag            0\n",
       "geartype        2\n",
       "length          1\n",
       "tonnage         1\n",
       "engine_power    9\n",
       "active_2012     0\n",
       "active_2013     0\n",
       "active_2014     0\n",
       "active_2015     0\n",
       "active_2016     0\n",
       "dtype: int64"
      ]
     },
     "execution_count": 22,
     "metadata": {},
     "output_type": "execute_result"
    }
   ],
   "source": [
    "# Check for null values\n",
    "raw_sample.isnull().sum()"
   ]
  },
  {
   "cell_type": "code",
   "execution_count": 23,
   "id": "7aaf7014-9ac0-420b-ada4-2de90c91d302",
   "metadata": {},
   "outputs": [],
   "source": [
    "roi = ee.Geometry.Polygon([[-84.997101, -12.93982],\n",
    "      [-84.997101, -3.79797],\n",
    "      [-76.295929, -3.79797],\n",
    "      [-76.295929, -12.93982],\n",
    "      [-84.997101, -12.93982]])"
   ]
  },
  {
   "cell_type": "code",
   "execution_count": 33,
   "id": "38beeb5b-b6fb-42ea-87b0-be1eac9beec0",
   "metadata": {},
   "outputs": [
    {
     "data": {
      "text/plain": [
       "CHN    49039\n",
       "NOR     2229\n",
       "USA     2180\n",
       "ESP     1953\n",
       "ITA     1588\n",
       "       ...  \n",
       "TCD        1\n",
       "CUB        1\n",
       "GLP        1\n",
       "TON        1\n",
       "STP        1\n",
       "Name: flag, Length: 128, dtype: int64"
      ]
     },
     "execution_count": 33,
     "metadata": {},
     "output_type": "execute_result"
    }
   ],
   "source": [
    "# Check for even representation of vessels\n",
    "raw['flag'].value_counts().sort_values(ascending=False)"
   ]
  },
  {
   "cell_type": "code",
   "execution_count": null,
   "id": "1846d193-33aa-4033-8986-2ec63759399c",
   "metadata": {},
   "outputs": [],
   "source": []
  }
 ],
 "metadata": {
  "kernelspec": {
   "display_name": "Python 3 (ipykernel)",
   "language": "python",
   "name": "python3"
  },
  "language_info": {
   "codemirror_mode": {
    "name": "ipython",
    "version": 3
   },
   "file_extension": ".py",
   "mimetype": "text/x-python",
   "name": "python",
   "nbconvert_exporter": "python",
   "pygments_lexer": "ipython3",
   "version": "3.10.5"
  }
 },
 "nbformat": 4,
 "nbformat_minor": 5
}

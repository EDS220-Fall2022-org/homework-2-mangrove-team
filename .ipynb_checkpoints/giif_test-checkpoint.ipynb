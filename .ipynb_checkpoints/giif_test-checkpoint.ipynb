{
 "cells": [
  {
   "cell_type": "code",
   "execution_count": 1,
   "id": "5d4f8ee7-5bb5-42b5-9396-6578f998b6a6",
   "metadata": {},
   "outputs": [],
   "source": [
    "# Import packages\n",
    "import ee\n",
    "import geemap\n",
    "import pandas as pd\n",
    "import matplotlib.pyplot as plt\n",
    "import numpy as np\n",
    "import os"
   ]
  },
  {
   "cell_type": "code",
   "execution_count": 2,
   "id": "87ca4081-ef44-44a6-8bec-688be8467f41",
   "metadata": {},
   "outputs": [],
   "source": [
    "# Initialize google earth engine \n",
    "ee.Initialize()"
   ]
  },
  {
   "cell_type": "code",
   "execution_count": 80,
   "id": "e93293a3-f240-4fa7-b7c2-c1a5ed15b565",
   "metadata": {},
   "outputs": [],
   "source": [
    "# read in the data on fishing hours from google earth engine\n",
    "fishing_hours = ee.ImageCollection('GFW/GFF/V1/fishing_hours')\n",
    "# read in data on total vessel hours from google earth engine\n",
    "vessel_hours = ee.ImageCollection('GFW/GFF/V1/vessel_hours')\n",
    "# SRTM data to use for background\n",
    "SRTM=ee.Image(\"USGS/GTOPO30\")"
   ]
  },
  {
   "cell_type": "code",
   "execution_count": 5,
   "id": "12364de8-f194-44e5-b368-bc3001fa0e71",
   "metadata": {},
   "outputs": [],
   "source": [
    "\n",
    "# Define area of interest off the coast of Peru.\n",
    "roi = ee.Geometry.Polygon([[-84.997101, -12.93982],\n",
    "      [-84.997101, -3.79797],\n",
    "      [-76.295929, -3.79797],\n",
    "      [-76.295929, -12.93982],\n",
    "      [-84.997101, -12.93982]], None, False)\n"
   ]
  },
  {
   "cell_type": "code",
   "execution_count": 6,
   "id": "0ba761ae-3d66-4943-b46d-c5783f82632b",
   "metadata": {},
   "outputs": [],
   "source": [
    "\n",
    "# Filter by \"WLD\" to get all global fishing vessel hours rasters in 2016\n",
    "effort = fishing_hours.filterMetadata('country', 'equals', 'WLD').filterDate('2013-01-01','2017-01-01');\n"
   ]
  },
  {
   "cell_type": "code",
   "execution_count": 81,
   "id": "d6808420-0349-433a-b4bf-4cc96c552952",
   "metadata": {},
   "outputs": [],
   "source": [
    "# monthly sum of fishing effort\n",
    "def monthly_Sum (collection, years, months):\n",
    "  effort_sum = []\n",
    "  for year in years:\n",
    "    for month in months:\n",
    "      Monthly_sum = collection.filter(ee.Filter.calendarRange(year, year, 'year')) \\\n",
    "                              .filter(ee.Filter.calendarRange(month, month, 'month')) \\\n",
    "                              .sum() \\\n",
    "                              .reduce(ee.Reducer.sum()) \\\n",
    "                              .set('system:time_start',{'month': month, 'year': year})\n",
    "      Monthly_sum = Monthly_sum.mask(Monthly_sum.gt(0))\n",
    "      Monthly_sum = SRTM.blend(Monthly_sum)\n",
    "      effort_sum.append (Monthly_sum)\n",
    "  return ee.ImageCollection.fromImages(effort_sum)\n",
    "\n",
    "# list of images\n",
    "def monthly_images (collection, years, months):\n",
    "  effort_images = []\n",
    "  for year in years:\n",
    "    for month in months:\n",
    "      Monthly_sum = collection.filter(ee.Filter.calendarRange(year, year, 'year')) \\\n",
    "                              .filter(ee.Filter.calendarRange(month, month, 'month')) \\\n",
    "                              .sum() \\\n",
    "                              .reduce(ee.Reducer.sum()) \\\n",
    "                              .set('system:time_start',{'month': month, 'year': year})\n",
    "      effort_images.append (Monthly_sum)\n",
    "  return effort_images\n",
    "\n"
   ]
  },
  {
   "cell_type": "code",
   "execution_count": 70,
   "id": "a25ae638-6df0-4442-8235-23289d3d4d8c",
   "metadata": {},
   "outputs": [],
   "source": [
    "years = range(2013, 2017)\n",
    "months = range(1, 13)"
   ]
  },
  {
   "cell_type": "code",
   "execution_count": 82,
   "id": "630809fa-0e4b-44e5-8640-ed05e76a5969",
   "metadata": {},
   "outputs": [
    {
     "name": "stdout",
     "output_type": "stream",
     "text": [
      "{'type': 'Image', 'bands': [{'id': 'elevation', 'data_type': {'type': 'PixelType', 'precision': 'double'}, 'dimensions': [43200, 21600], 'crs': 'EPSG:4326', 'crs_transform': [0.00833333333333, 0, -180, 0, -0.00833333333333, 89.99999999994]}], 'id': 'USGS/GTOPO30', 'version': 1641990764759077, 'properties': {'system:index': '0', 'system:visualization_0_min': '-10.0', 'type_name': 'Image', 'keywords': ['dem', 'elevation', 'geophysical', 'gtopo30', 'nasa', 'topography', 'usgs'], 'thumb': 'https://mw1.google.com/ges/dd/images/USGS_GTOPO30_thumb.png', 'description': '<p>GTOPO30 is a global digital elevation model (DEM) with\\na horizontal grid spacing of 30 arc seconds (approximately 1 kilometer).\\nThe DEM was derived from several raster and vector sources of topographic\\ninformation.  Completed in late 1996, GTOPO30 was developed over\\na three-year period through a collaborative effort led by the U.S.\\nGeological Survey&#39;&#39;s Center for Earth Resources Observation and\\nScience (EROS). The following organizations  participated by contributing\\nfunding or source data:  the National Aeronautics  and Space Administration\\n(NASA), the United Nations Environment Programme/Global Resource\\nInformation Database (UNEP/GRID), the U.S. Agency for International\\nDevelopment (USAID), the Instituto Nacional de Estadistica Geografica\\ne Informatica (INEGI) of Mexico, the Geographical Survey Institute  (GSI)\\nof Japan, Manaaki Whenua Landcare Research of New Zealand, and\\nthe  Scientific Committee on Antarctic Research (SCAR).</p><p><b>Provider: <a href=\"https://www.usgs.gov/centers/eros/science/usgs-eros-archive-digital-elevation-global-30-arc-second-elevation-gtopo30\">United States Geological Survey</a></b><br><p><b>Bands</b><table class=\"eecat\"><tr><th scope=\"col\">Name</th><th scope=\"col\">Description</th></tr><tr><td>elevation</td><td><p>Elevation</p></td></tr></table><p><b>Terms of Use</b><br><p>There are no restrictions on the use of data received\\nfrom the U.S. Geological Survey&#39;s Earth Resources Observation and\\nScience (EROS) Center. For more information, visit the USGS&#39; <a href=\"https://www.usgs.gov/centers/eros/science/usgs-eros-archive-data-use-and-citation\">Data\\nUse and Citation</a> page.</p><p><b>Suggested citation(s)</b><ul><li><p>GTOPO30 DEM courtesy of the U.S. Geological Survey</p></li></ul><style>\\n  table.eecat {\\n  border: 1px solid black;\\n  border-collapse: collapse;\\n  font-size: 13px;\\n  }\\n  table.eecat td, tr, th {\\n  text-align: left; vertical-align: top;\\n  border: 1px solid gray; padding: 3px;\\n  }\\n  td.nobreak { white-space: nowrap; }\\n</style>', 'source_tags': ['nasa', 'usgs'], 'visualization_0_max': '8000.0', 'title': 'GTOPO30: Global 30 Arc-Second Elevation', 'product_tags': ['gtopo30', 'elevation', 'topography', 'dem', 'geophysical'], 'provider': 'United States Geological Survey', 'visualization_0_min': '-10.0', 'visualization_0_name': 'Elevation', 'date_range': [820454400000, 820454400000], 'system:visualization_0_gamma': '1.6', 'period': 0, 'system:visualization_0_bands': 'elevation', 'system:time_end': 820454400000, 'provider_url': 'https://www.usgs.gov/centers/eros/science/usgs-eros-archive-digital-elevation-global-30-arc-second-elevation-gtopo30', 'visualization_0_gamma': '1.6', 'sample': 'https://mw1.google.com/ges/dd/images/USGS_GTOPO30_sample.png', 'tags': ['dem', 'elevation', 'geophysical', 'gtopo30', 'nasa', 'topography', 'usgs'], 'system:time_start': 820454400000, 'system:visualization_0_max': '8000.0', 'system:visualization_0_name': 'Elevation', 'system:asset_size': 353176769, 'visualization_0_bands': 'elevation'}}\n"
     ]
    },
    {
     "data": {
      "text/plain": [
       "48"
      ]
     },
     "execution_count": 93,
     "metadata": {},
     "output_type": "execute_result"
    }
   ],
   "source": [
    "effort_collection = monthly_Sum(effort, years, months)\n",
    "\n",
    "effort_list = monthly_images(effort, years, months)\n",
    "\n",
    "len(effort_list)"
   ]
  },
  {
   "cell_type": "code",
   "execution_count": 101,
   "id": "87b064ed-1bbc-4483-8989-aaa285d21ea0",
   "metadata": {},
   "outputs": [],
   "source": [
    "videoArgs = {\n",
    "    'dimensions': 732,\n",
    "    'region': roi,\n",
    "    'framesPerSecond': 2,\n",
    "    'crs': 'EPSG:4326',\n",
    "    'min': 0.0,\n",
    "    'max': 3.0,\n",
    "    'palette': ['0C276C', '3B9088', 'EEFF00', 'ffffff']\n",
    "}"
   ]
  },
  {
   "cell_type": "code",
   "execution_count": 102,
   "id": "5b9da618-24d6-4f84-a598-fc44f4406100",
   "metadata": {},
   "outputs": [
    {
     "name": "stdout",
     "output_type": "stream",
     "text": [
      "Generating URL...\n",
      "Downloading GIF image from https://earthengine.googleapis.com/v1alpha/projects/earthengine-legacy/videoThumbnails/e85c519e8905718f1707a3ca452e63d1-d300de0291549bc3d03c22c9ebbc03d2:getPixels\n",
      "Please wait ...\n",
      "The GIF image has been saved to: /Users/jfrench/eds-220/homework-2-mangrove-team/test2.gif\n"
     ]
    }
   ],
   "source": [
    "saved_gif = os.path.join(os.path.expanduser('~'), 'eds-220/homework-2-mangrove-team/test2.gif')\n",
    "geemap.download_ee_video(effort_collection, videoArgs, saved_gif)"
   ]
  },
  {
   "cell_type": "code",
   "execution_count": 76,
   "id": "2a05f57f-78ee-400f-ad9c-0c52a13137be",
   "metadata": {},
   "outputs": [],
   "source": [
    "date_list = []\n",
    "\n",
    "for i in effort_list:\n",
    "    date = i.get('system:time_start').getInfo()\n",
    "    date_list.append(date)"
   ]
  },
  {
   "cell_type": "code",
   "execution_count": 103,
   "id": "3e8aac58-ec82-48ce-8d0c-0b7f89927f88",
   "metadata": {},
   "outputs": [],
   "source": [
    "out_gif = os.path.join(os.path.expanduser('~'), 'eds-220/homework-2-mangrove-team/test-label.gif')"
   ]
  },
  {
   "cell_type": "code",
   "execution_count": 106,
   "id": "481b3386-85d3-4d7d-95d9-7497e91983a7",
   "metadata": {},
   "outputs": [],
   "source": [
    "geemap.add_text_to_gif(\n",
    "    saved_gif,\n",
    "    out_gif,\n",
    "    xy=('3%', '5%'),\n",
    "    text_sequence=date_list,\n",
    "    font_size=25,\n",
    "    font_color='#ffffff',\n",
    "    duration=1000\n",
    ")"
   ]
  },
  {
   "cell_type": "code",
   "execution_count": 107,
   "id": "dbb76e82-3498-4948-ab8e-988055d9d9d3",
   "metadata": {},
   "outputs": [
    {
     "data": {
      "application/vnd.jupyter.widget-view+json": {
       "model_id": "a2133f59cd174d2a9b4ae5c246fcc9fc",
       "version_major": 2,
       "version_minor": 0
      },
      "text/plain": [
       "Output()"
      ]
     },
     "metadata": {},
     "output_type": "display_data"
    }
   ],
   "source": [
    "geemap.show_image(out_gif)"
   ]
  }
 ],
 "metadata": {
  "kernelspec": {
   "display_name": "Python 3 (ipykernel)",
   "language": "python",
   "name": "python3"
  },
  "language_info": {
   "codemirror_mode": {
    "name": "ipython",
    "version": 3
   },
   "file_extension": ".py",
   "mimetype": "text/x-python",
   "name": "python",
   "nbconvert_exporter": "python",
   "pygments_lexer": "ipython3",
   "version": "3.10.5"
  }
 },
 "nbformat": 4,
 "nbformat_minor": 5
}

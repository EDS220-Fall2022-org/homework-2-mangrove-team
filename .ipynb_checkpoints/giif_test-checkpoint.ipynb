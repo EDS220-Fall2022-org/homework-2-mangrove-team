{
 "cells": [
  {
   "cell_type": "code",
   "execution_count": 1,
   "id": "5d4f8ee7-5bb5-42b5-9396-6578f998b6a6",
   "metadata": {},
   "outputs": [],
   "source": [
    "# Import packages\n",
    "import ee\n",
    "import geemap\n",
    "import pandas as pd\n",
    "import matplotlib.pyplot as plt\n",
    "import numpy as np\n",
    "import os"
   ]
  },
  {
   "cell_type": "code",
   "execution_count": 2,
   "id": "87ca4081-ef44-44a6-8bec-688be8467f41",
   "metadata": {},
   "outputs": [],
   "source": [
    "# Initialize google earth engine \n",
    "ee.Initialize()"
   ]
  },
  {
   "cell_type": "code",
   "execution_count": 3,
   "id": "e93293a3-f240-4fa7-b7c2-c1a5ed15b565",
   "metadata": {},
   "outputs": [],
   "source": [
    "# read in the data on fishing hours from google earth engine\n",
    "fishing_hours = ee.ImageCollection('GFW/GFF/V1/fishing_hours')\n",
    "# read in data on total vessel hours from google earth engine\n",
    "vessel_hours = ee.ImageCollection('GFW/GFF/V1/vessel_hours')"
   ]
  },
  {
   "cell_type": "code",
   "execution_count": 4,
   "id": "80176000-3b8e-4057-871d-7bfe22df65d4",
   "metadata": {},
   "outputs": [],
   "source": [
    "# Set viz parameters\n",
    " \n",
    "trawlersVis = {\n",
    "  'min': 0.0,\n",
    "  'max': 5.0,\n",
    "  'palette': ['0d0887', '3d049b', '6903a5', '8d0fa1', 'ae2891', 'cb4679', 'df6363',\n",
    "  'f0844c', 'faa638', 'fbcc27', 'f0f921']\n",
    "}"
   ]
  },
  {
   "cell_type": "code",
   "execution_count": 5,
   "id": "12364de8-f194-44e5-b368-bc3001fa0e71",
   "metadata": {},
   "outputs": [],
   "source": [
    "\n",
    "# Define area of interest off the coast of Peru.\n",
    "roi = ee.Geometry.Polygon([[-84.997101, -12.93982],\n",
    "      [-84.997101, -3.79797],\n",
    "      [-76.295929, -3.79797],\n",
    "      [-76.295929, -12.93982],\n",
    "      [-84.997101, -12.93982]], None, False)\n"
   ]
  },
  {
   "cell_type": "code",
   "execution_count": 6,
   "id": "0ba761ae-3d66-4943-b46d-c5783f82632b",
   "metadata": {},
   "outputs": [],
   "source": [
    "\n",
    "# Filter by \"WLD\" to get all global fishing vessel hours rasters in 2016\n",
    "effort = fishing_hours.filterMetadata('country', 'equals', 'WLD').filterDate('2013-01-01','2017-01-01');\n"
   ]
  },
  {
   "cell_type": "code",
   "execution_count": 7,
   "id": "d6808420-0349-433a-b4bf-4cc96c552952",
   "metadata": {},
   "outputs": [],
   "source": [
    "# monthly sum of fishing effort\n",
    "def monthly_Sum (collection, years, months):\n",
    "  effort_sum = []\n",
    "  for year in years:\n",
    "    for month in months:\n",
    "      Monthly_sum = collection.filter(ee.Filter.calendarRange(year, year, 'year')) \\\n",
    "                              .filter(ee.Filter.calendarRange(month, month, 'month')) \\\n",
    "                              .sum() \\\n",
    "                              .reduce(ee.Reducer.sum()) \\\n",
    "                              .set('system:time_start',{'month': month, 'year': year})\n",
    "      effort_sum.append (Monthly_sum)\n",
    "  return ee.ImageCollection.fromImages(effort_sum)\n",
    "\n",
    "# list of images\n",
    "def monthly_images (collection, years, months):\n",
    "  effort_images = []\n",
    "  for year in years:\n",
    "    for month in months:\n",
    "      Monthly_sum = collection.filter(ee.Filter.calendarRange(year, year, 'year')) \\\n",
    "                              .filter(ee.Filter.calendarRange(month, month, 'month')) \\\n",
    "                              .sum() \\\n",
    "                              .reduce(ee.Reducer.sum()) \\\n",
    "                              .set('system:time_start',{'month': month, 'year': year})\n",
    "      effort_images.append (Monthly_sum)\n",
    "  return effort_images\n",
    "\n"
   ]
  },
  {
   "cell_type": "code",
   "execution_count": 8,
   "id": "a25ae638-6df0-4442-8235-23289d3d4d8c",
   "metadata": {},
   "outputs": [],
   "source": [
    "years = range(2013, 2017)\n",
    "months = range(1, 13)"
   ]
  },
  {
   "cell_type": "code",
   "execution_count": 10,
   "id": "630809fa-0e4b-44e5-8640-ed05e76a5969",
   "metadata": {},
   "outputs": [
    {
     "data": {
      "text/plain": [
       "48"
      ]
     },
     "execution_count": 10,
     "metadata": {},
     "output_type": "execute_result"
    }
   ],
   "source": [
    "effort_collection = monthly_Sum(effort, years, months)\n",
    "\n",
    "effort_list = monthly_images(effort, years, months)\n",
    "\n",
    "effort_collection.first().getInfo()\n",
    "\n",
    "len(effort_list)"
   ]
  },
  {
   "cell_type": "code",
   "execution_count": 29,
   "id": "87b064ed-1bbc-4483-8989-aaa285d21ea0",
   "metadata": {},
   "outputs": [],
   "source": [
    "videoArgs = {\n",
    "    'dimensions': 732,\n",
    "    'region': roi,\n",
    "    'framesPerSecond': 2,\n",
    "    'crs': 'EPSG:3857',\n",
    "    'min': 0.0,\n",
    "    'max': 3.0,\n",
    "    'palette': ['0d0887', '3d049b', '6903a5', '8d0fa1', 'ae2891', 'cb4679', 'df6363',\n",
    "  'f0844c', 'faa638', 'fbcc27', 'f0f921']\n",
    "}"
   ]
  },
  {
   "cell_type": "code",
   "execution_count": 30,
   "id": "5b9da618-24d6-4f84-a598-fc44f4406100",
   "metadata": {},
   "outputs": [
    {
     "name": "stdout",
     "output_type": "stream",
     "text": [
      "Generating URL...\n",
      "Downloading GIF image from https://earthengine.googleapis.com/v1alpha/projects/earthengine-legacy/videoThumbnails/22874071b214ece80fa773223d7c095d-3901478827e4e253a6d91ed5135c61a8:getPixels\n",
      "Please wait ...\n",
      "The GIF image has been saved to: /Users/jfrench/eds-220/homework-2-mangrove-team/test2.gif\n"
     ]
    }
   ],
   "source": [
    "saved_gif = os.path.join(os.path.expanduser('~'), 'eds-220/homework-2-mangrove-team/test2.gif')\n",
    "geemap.download_ee_video(effort_collection, videoArgs, saved_gif)"
   ]
  },
  {
   "cell_type": "code",
   "execution_count": 32,
   "id": "2a05f57f-78ee-400f-ad9c-0c52a13137be",
   "metadata": {},
   "outputs": [],
   "source": [
    "date_list = []\n",
    "\n",
    "for i in effort_list:\n",
    "    date = i.get('system:time_start').getInfo()\n",
    "    date_list.append(date)"
   ]
  },
  {
   "cell_type": "code",
   "execution_count": 33,
   "id": "3e8aac58-ec82-48ce-8d0c-0b7f89927f88",
   "metadata": {},
   "outputs": [],
   "source": [
    "out_gif = os.path.join(os.path.expanduser('~'), 'eds-220/homework-2-mangrove-team/test-label.gif')"
   ]
  },
  {
   "cell_type": "code",
   "execution_count": 36,
   "id": "481b3386-85d3-4d7d-95d9-7497e91983a7",
   "metadata": {},
   "outputs": [],
   "source": [
    "geemap.add_text_to_gif(\n",
    "    saved_gif,\n",
    "    out_gif,\n",
    "    xy=('3%', '5%'),\n",
    "    text_sequence=date_list,\n",
    "    font_size=30,\n",
    "    font_color='#ffffff',\n",
    "    duration=500\n",
    ")"
   ]
  },
  {
   "cell_type": "code",
   "execution_count": 37,
   "id": "dbb76e82-3498-4948-ab8e-988055d9d9d3",
   "metadata": {},
   "outputs": [
    {
     "data": {
      "application/vnd.jupyter.widget-view+json": {
       "model_id": "6c01d9e78da04dc6851c3ad43a600541",
       "version_major": 2,
       "version_minor": 0
      },
      "text/plain": [
       "Output()"
      ]
     },
     "metadata": {},
     "output_type": "display_data"
    }
   ],
   "source": [
    "geemap.show_image(out_gif)"
   ]
  }
 ],
 "metadata": {
  "kernelspec": {
   "display_name": "Python 3 (ipykernel)",
   "language": "python",
   "name": "python3"
  },
  "language_info": {
   "codemirror_mode": {
    "name": "ipython",
    "version": 3
   },
   "file_extension": ".py",
   "mimetype": "text/x-python",
   "name": "python",
   "nbconvert_exporter": "python",
   "pygments_lexer": "ipython3",
   "version": "3.10.5"
  }
 },
 "nbformat": 4,
 "nbformat_minor": 5
}

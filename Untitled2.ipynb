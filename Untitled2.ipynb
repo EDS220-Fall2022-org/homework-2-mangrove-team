{
 "cells": [
  {
   "cell_type": "code",
   "execution_count": 1,
   "id": "191d6418-1e68-44ce-bd78-6c1eaca74ec9",
   "metadata": {},
   "outputs": [],
   "source": [
    "# Import packages\n",
    "import ee\n",
    "import geemap\n",
    "import pandas as pd\n",
    "import matplotlib.pyplot as plt\n",
    "import numpy as np\n",
    "import os"
   ]
  },
  {
   "cell_type": "code",
   "execution_count": 2,
   "id": "3b0ec4fa-a1e6-444b-8c91-eed62da1952d",
   "metadata": {},
   "outputs": [],
   "source": [
    "# Initialize google earth engine \n",
    "ee.Initialize()"
   ]
  }
 ],
 "metadata": {
  "kernelspec": {
   "display_name": "Python 3 (ipykernel)",
   "language": "python",
   "name": "python3"
  },
  "language_info": {
   "codemirror_mode": {
    "name": "ipython",
    "version": 3
   },
   "file_extension": ".py",
   "mimetype": "text/x-python",
   "name": "python",
   "nbconvert_exporter": "python",
   "pygments_lexer": "ipython3",
   "version": "3.10.5"
  }
 },
 "nbformat": 4,
 "nbformat_minor": 5
}

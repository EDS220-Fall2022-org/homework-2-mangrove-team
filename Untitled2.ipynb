{
 "cells": [
  {
   "cell_type": "code",
   "execution_count": 1,
   "id": "191d6418-1e68-44ce-bd78-6c1eaca74ec9",
   "metadata": {},
   "outputs": [],
   "source": [
    "# Import packages\n",
    "import ee\n",
    "import geemap\n",
    "import pandas as pd\n",
    "import matplotlib.pyplot as plt\n",
    "import numpy as np\n",
    "import os"
   ]
  },
  {
   "cell_type": "code",
   "execution_count": 2,
   "id": "3b0ec4fa-a1e6-444b-8c91-eed62da1952d",
   "metadata": {},
   "outputs": [],
   "source": [
    "# Initialize google earth engine \n",
    "ee.Initialize()"
   ]
  },
  {
   "cell_type": "code",
   "execution_count": 4,
   "id": "b8c1db9b-b1ab-4bf4-9b3e-8a0febf9b981",
   "metadata": {},
   "outputs": [
    {
     "name": "stdout",
     "output_type": "stream",
     "text": [
      "The number of milliseconds since 1970-01-01T00:00:00Z.:  1400940473520\n",
      "Formatted date 2014-5-24\n"
     ]
    }
   ],
   "source": [
    "\n",
    "collection = ee.ImageCollection('LANDSAT/LC08/C01/T1')\n",
    "\n",
    "date = ee.Date(collection.first().get('system:time_start'))\n",
    "\n",
    "date_dict = date.getInfo()\n",
    "\n",
    "print (\"The number of milliseconds since 1970-01-01T00:00:00Z.: \", date_dict['value'])\n",
    "\n",
    "print (\"Formatted date\", date.format('Y-M-d').getInfo())"
   ]
  }
 ],
 "metadata": {
  "kernelspec": {
   "display_name": "Python 3 (ipykernel)",
   "language": "python",
   "name": "python3"
  },
  "language_info": {
   "codemirror_mode": {
    "name": "ipython",
    "version": 3
   },
   "file_extension": ".py",
   "mimetype": "text/x-python",
   "name": "python",
   "nbconvert_exporter": "python",
   "pygments_lexer": "ipython3",
   "version": "3.10.5"
  }
 },
 "nbformat": 4,
 "nbformat_minor": 5
}
